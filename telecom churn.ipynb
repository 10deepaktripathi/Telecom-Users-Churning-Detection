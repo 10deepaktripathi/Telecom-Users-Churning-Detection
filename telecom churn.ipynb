{
 "cells": [
  {
   "cell_type": "code",
   "execution_count": 4,
   "metadata": {},
   "outputs": [],
   "source": [
    "import pandas as pd\n",
    "import warnings\n",
    "warnings.filterwarnings('ignore')"
   ]
  },
  {
   "cell_type": "code",
   "execution_count": 458,
   "metadata": {},
   "outputs": [
    {
     "data": {
      "text/html": [
       "<div>\n",
       "<style scoped>\n",
       "    .dataframe tbody tr th:only-of-type {\n",
       "        vertical-align: middle;\n",
       "    }\n",
       "\n",
       "    .dataframe tbody tr th {\n",
       "        vertical-align: top;\n",
       "    }\n",
       "\n",
       "    .dataframe thead th {\n",
       "        text-align: right;\n",
       "    }\n",
       "</style>\n",
       "<table border=\"1\" class=\"dataframe\">\n",
       "  <thead>\n",
       "    <tr style=\"text-align: right;\">\n",
       "      <th></th>\n",
       "      <th>Unnamed: 0</th>\n",
       "      <th>customerID</th>\n",
       "      <th>gender</th>\n",
       "      <th>SeniorCitizen</th>\n",
       "      <th>Partner</th>\n",
       "      <th>Dependents</th>\n",
       "      <th>tenure</th>\n",
       "      <th>PhoneService</th>\n",
       "      <th>MultipleLines</th>\n",
       "      <th>InternetService</th>\n",
       "      <th>...</th>\n",
       "      <th>DeviceProtection</th>\n",
       "      <th>TechSupport</th>\n",
       "      <th>StreamingTV</th>\n",
       "      <th>StreamingMovies</th>\n",
       "      <th>Contract</th>\n",
       "      <th>PaperlessBilling</th>\n",
       "      <th>PaymentMethod</th>\n",
       "      <th>MonthlyCharges</th>\n",
       "      <th>TotalCharges</th>\n",
       "      <th>Churn</th>\n",
       "    </tr>\n",
       "  </thead>\n",
       "  <tbody>\n",
       "    <tr>\n",
       "      <th>0</th>\n",
       "      <td>1869</td>\n",
       "      <td>7010-BRBUU</td>\n",
       "      <td>Male</td>\n",
       "      <td>0</td>\n",
       "      <td>Yes</td>\n",
       "      <td>Yes</td>\n",
       "      <td>72</td>\n",
       "      <td>Yes</td>\n",
       "      <td>Yes</td>\n",
       "      <td>No</td>\n",
       "      <td>...</td>\n",
       "      <td>No internet service</td>\n",
       "      <td>No internet service</td>\n",
       "      <td>No internet service</td>\n",
       "      <td>No internet service</td>\n",
       "      <td>Two year</td>\n",
       "      <td>No</td>\n",
       "      <td>Credit card (automatic)</td>\n",
       "      <td>24.10</td>\n",
       "      <td>1734.65</td>\n",
       "      <td>No</td>\n",
       "    </tr>\n",
       "    <tr>\n",
       "      <th>1</th>\n",
       "      <td>4528</td>\n",
       "      <td>9688-YGXVR</td>\n",
       "      <td>Female</td>\n",
       "      <td>0</td>\n",
       "      <td>No</td>\n",
       "      <td>No</td>\n",
       "      <td>44</td>\n",
       "      <td>Yes</td>\n",
       "      <td>No</td>\n",
       "      <td>Fiber optic</td>\n",
       "      <td>...</td>\n",
       "      <td>Yes</td>\n",
       "      <td>No</td>\n",
       "      <td>Yes</td>\n",
       "      <td>No</td>\n",
       "      <td>Month-to-month</td>\n",
       "      <td>Yes</td>\n",
       "      <td>Credit card (automatic)</td>\n",
       "      <td>88.15</td>\n",
       "      <td>3973.2</td>\n",
       "      <td>No</td>\n",
       "    </tr>\n",
       "    <tr>\n",
       "      <th>2</th>\n",
       "      <td>6344</td>\n",
       "      <td>9286-DOJGF</td>\n",
       "      <td>Female</td>\n",
       "      <td>1</td>\n",
       "      <td>Yes</td>\n",
       "      <td>No</td>\n",
       "      <td>38</td>\n",
       "      <td>Yes</td>\n",
       "      <td>Yes</td>\n",
       "      <td>Fiber optic</td>\n",
       "      <td>...</td>\n",
       "      <td>No</td>\n",
       "      <td>No</td>\n",
       "      <td>No</td>\n",
       "      <td>No</td>\n",
       "      <td>Month-to-month</td>\n",
       "      <td>Yes</td>\n",
       "      <td>Bank transfer (automatic)</td>\n",
       "      <td>74.95</td>\n",
       "      <td>2869.85</td>\n",
       "      <td>Yes</td>\n",
       "    </tr>\n",
       "    <tr>\n",
       "      <th>3</th>\n",
       "      <td>6739</td>\n",
       "      <td>6994-KERXL</td>\n",
       "      <td>Male</td>\n",
       "      <td>0</td>\n",
       "      <td>No</td>\n",
       "      <td>No</td>\n",
       "      <td>4</td>\n",
       "      <td>Yes</td>\n",
       "      <td>No</td>\n",
       "      <td>DSL</td>\n",
       "      <td>...</td>\n",
       "      <td>No</td>\n",
       "      <td>No</td>\n",
       "      <td>No</td>\n",
       "      <td>Yes</td>\n",
       "      <td>Month-to-month</td>\n",
       "      <td>Yes</td>\n",
       "      <td>Electronic check</td>\n",
       "      <td>55.90</td>\n",
       "      <td>238.5</td>\n",
       "      <td>No</td>\n",
       "    </tr>\n",
       "    <tr>\n",
       "      <th>4</th>\n",
       "      <td>432</td>\n",
       "      <td>2181-UAESM</td>\n",
       "      <td>Male</td>\n",
       "      <td>0</td>\n",
       "      <td>No</td>\n",
       "      <td>No</td>\n",
       "      <td>2</td>\n",
       "      <td>Yes</td>\n",
       "      <td>No</td>\n",
       "      <td>DSL</td>\n",
       "      <td>...</td>\n",
       "      <td>Yes</td>\n",
       "      <td>No</td>\n",
       "      <td>No</td>\n",
       "      <td>No</td>\n",
       "      <td>Month-to-month</td>\n",
       "      <td>No</td>\n",
       "      <td>Electronic check</td>\n",
       "      <td>53.45</td>\n",
       "      <td>119.5</td>\n",
       "      <td>No</td>\n",
       "    </tr>\n",
       "  </tbody>\n",
       "</table>\n",
       "<p>5 rows × 22 columns</p>\n",
       "</div>"
      ],
      "text/plain": [
       "   Unnamed: 0  customerID  gender  SeniorCitizen Partner Dependents  tenure  \\\n",
       "0        1869  7010-BRBUU    Male              0     Yes        Yes      72   \n",
       "1        4528  9688-YGXVR  Female              0      No         No      44   \n",
       "2        6344  9286-DOJGF  Female              1     Yes         No      38   \n",
       "3        6739  6994-KERXL    Male              0      No         No       4   \n",
       "4         432  2181-UAESM    Male              0      No         No       2   \n",
       "\n",
       "  PhoneService MultipleLines InternetService  ...     DeviceProtection  \\\n",
       "0          Yes           Yes              No  ...  No internet service   \n",
       "1          Yes            No     Fiber optic  ...                  Yes   \n",
       "2          Yes           Yes     Fiber optic  ...                   No   \n",
       "3          Yes            No             DSL  ...                   No   \n",
       "4          Yes            No             DSL  ...                  Yes   \n",
       "\n",
       "           TechSupport          StreamingTV      StreamingMovies  \\\n",
       "0  No internet service  No internet service  No internet service   \n",
       "1                   No                  Yes                   No   \n",
       "2                   No                   No                   No   \n",
       "3                   No                   No                  Yes   \n",
       "4                   No                   No                   No   \n",
       "\n",
       "         Contract PaperlessBilling              PaymentMethod MonthlyCharges  \\\n",
       "0        Two year               No    Credit card (automatic)          24.10   \n",
       "1  Month-to-month              Yes    Credit card (automatic)          88.15   \n",
       "2  Month-to-month              Yes  Bank transfer (automatic)          74.95   \n",
       "3  Month-to-month              Yes           Electronic check          55.90   \n",
       "4  Month-to-month               No           Electronic check          53.45   \n",
       "\n",
       "  TotalCharges  Churn  \n",
       "0      1734.65     No  \n",
       "1       3973.2     No  \n",
       "2      2869.85    Yes  \n",
       "3        238.5     No  \n",
       "4        119.5     No  \n",
       "\n",
       "[5 rows x 22 columns]"
      ]
     },
     "execution_count": 458,
     "metadata": {},
     "output_type": "execute_result"
    }
   ],
   "source": [
    "df=pd.read_csv(r\"C:\\Users\\Deepak Tripathi\\Downloads\\telecom_users (1).csv\")\n",
    "df1=df.copy()\n",
    "df.head()"
   ]
  },
  {
   "cell_type": "code",
   "execution_count": 6,
   "metadata": {},
   "outputs": [
    {
     "data": {
      "text/plain": [
       "(5986, 22)"
      ]
     },
     "execution_count": 6,
     "metadata": {},
     "output_type": "execute_result"
    }
   ],
   "source": [
    "df.shape"
   ]
  },
  {
   "cell_type": "code",
   "execution_count": 7,
   "metadata": {},
   "outputs": [],
   "source": [
    "target=df['Churn']"
   ]
  },
  {
   "cell_type": "markdown",
   "metadata": {},
   "source": [
    "# check if data is imbalanced"
   ]
  },
  {
   "cell_type": "code",
   "execution_count": 133,
   "metadata": {},
   "outputs": [
    {
     "data": {
      "text/plain": [
       "No     4399\n",
       "Yes    1587\n",
       "Name: Churn, dtype: int64"
      ]
     },
     "execution_count": 133,
     "metadata": {},
     "output_type": "execute_result"
    }
   ],
   "source": [
    "target.value_counts()"
   ]
  },
  {
   "cell_type": "code",
   "execution_count": null,
   "metadata": {},
   "outputs": [],
   "source": []
  },
  {
   "cell_type": "markdown",
   "metadata": {},
   "source": [
    "# drop 'Unnamed: 0','customerID' as these are irrelevent"
   ]
  },
  {
   "cell_type": "code",
   "execution_count": 8,
   "metadata": {},
   "outputs": [],
   "source": [
    "df.drop(['Unnamed: 0','customerID','Churn'],axis=1,inplace=True)"
   ]
  },
  {
   "cell_type": "code",
   "execution_count": 9,
   "metadata": {},
   "outputs": [
    {
     "data": {
      "text/plain": [
       "(5986, 19)"
      ]
     },
     "execution_count": 9,
     "metadata": {},
     "output_type": "execute_result"
    }
   ],
   "source": [
    "df.shape"
   ]
  },
  {
   "cell_type": "markdown",
   "metadata": {},
   "source": [
    "# check for null values"
   ]
  },
  {
   "cell_type": "code",
   "execution_count": 10,
   "metadata": {},
   "outputs": [
    {
     "data": {
      "text/plain": [
       "gender              False\n",
       "SeniorCitizen       False\n",
       "Partner             False\n",
       "Dependents          False\n",
       "tenure              False\n",
       "PhoneService        False\n",
       "MultipleLines       False\n",
       "InternetService     False\n",
       "OnlineSecurity      False\n",
       "OnlineBackup        False\n",
       "DeviceProtection    False\n",
       "TechSupport         False\n",
       "StreamingTV         False\n",
       "StreamingMovies     False\n",
       "Contract            False\n",
       "PaperlessBilling    False\n",
       "PaymentMethod       False\n",
       "MonthlyCharges      False\n",
       "TotalCharges        False\n",
       "dtype: bool"
      ]
     },
     "execution_count": 10,
     "metadata": {},
     "output_type": "execute_result"
    }
   ],
   "source": [
    "df.isnull().any()"
   ]
  },
  {
   "cell_type": "code",
   "execution_count": 255,
   "metadata": {},
   "outputs": [],
   "source": [
    "#df['SeniorCitizen'].astype('object')"
   ]
  },
  {
   "cell_type": "markdown",
   "metadata": {},
   "source": [
    "# check dataype of each column"
   ]
  },
  {
   "cell_type": "code",
   "execution_count": 254,
   "metadata": {},
   "outputs": [
    {
     "data": {
      "text/plain": [
       "gender               object\n",
       "SeniorCitizen         int64\n",
       "Partner              object\n",
       "Dependents           object\n",
       "tenure                int64\n",
       "PhoneService         object\n",
       "MultipleLines        object\n",
       "InternetService      object\n",
       "OnlineSecurity       object\n",
       "OnlineBackup         object\n",
       "DeviceProtection     object\n",
       "TechSupport          object\n",
       "StreamingTV          object\n",
       "StreamingMovies      object\n",
       "Contract             object\n",
       "PaperlessBilling     object\n",
       "PaymentMethod        object\n",
       "MonthlyCharges      float64\n",
       "TotalCharges        float64\n",
       "dtype: object"
      ]
     },
     "execution_count": 254,
     "metadata": {},
     "output_type": "execute_result"
    }
   ],
   "source": [
    "df.dtypes"
   ]
  },
  {
   "cell_type": "code",
   "execution_count": null,
   "metadata": {},
   "outputs": [],
   "source": []
  },
  {
   "cell_type": "markdown",
   "metadata": {},
   "source": [
    "# convert TotalCharges column in numeric form"
   ]
  },
  {
   "cell_type": "code",
   "execution_count": 13,
   "metadata": {},
   "outputs": [
    {
     "data": {
      "text/plain": [
       "gender               0\n",
       "SeniorCitizen        0\n",
       "Partner              0\n",
       "Dependents           0\n",
       "tenure               0\n",
       "PhoneService         0\n",
       "MultipleLines        0\n",
       "InternetService      0\n",
       "OnlineSecurity       0\n",
       "OnlineBackup         0\n",
       "DeviceProtection     0\n",
       "TechSupport          0\n",
       "StreamingTV          0\n",
       "StreamingMovies      0\n",
       "Contract             0\n",
       "PaperlessBilling     0\n",
       "PaymentMethod        0\n",
       "MonthlyCharges       0\n",
       "TotalCharges        10\n",
       "dtype: int64"
      ]
     },
     "execution_count": 13,
     "metadata": {},
     "output_type": "execute_result"
    }
   ],
   "source": [
    "df.TotalCharges = pd.to_numeric(df.TotalCharges, errors='coerce')\n",
    "df.isnull().sum()"
   ]
  },
  {
   "cell_type": "code",
   "execution_count": null,
   "metadata": {},
   "outputs": [],
   "source": []
  },
  {
   "cell_type": "code",
   "execution_count": 14,
   "metadata": {},
   "outputs": [
    {
     "data": {
      "text/html": [
       "<div>\n",
       "<style scoped>\n",
       "    .dataframe tbody tr th:only-of-type {\n",
       "        vertical-align: middle;\n",
       "    }\n",
       "\n",
       "    .dataframe tbody tr th {\n",
       "        vertical-align: top;\n",
       "    }\n",
       "\n",
       "    .dataframe thead th {\n",
       "        text-align: right;\n",
       "    }\n",
       "</style>\n",
       "<table border=\"1\" class=\"dataframe\">\n",
       "  <thead>\n",
       "    <tr style=\"text-align: right;\">\n",
       "      <th></th>\n",
       "      <th>gender</th>\n",
       "      <th>SeniorCitizen</th>\n",
       "      <th>Partner</th>\n",
       "      <th>Dependents</th>\n",
       "      <th>tenure</th>\n",
       "      <th>PhoneService</th>\n",
       "      <th>MultipleLines</th>\n",
       "      <th>InternetService</th>\n",
       "      <th>OnlineSecurity</th>\n",
       "      <th>OnlineBackup</th>\n",
       "      <th>DeviceProtection</th>\n",
       "      <th>TechSupport</th>\n",
       "      <th>StreamingTV</th>\n",
       "      <th>StreamingMovies</th>\n",
       "      <th>Contract</th>\n",
       "      <th>PaperlessBilling</th>\n",
       "      <th>PaymentMethod</th>\n",
       "      <th>MonthlyCharges</th>\n",
       "      <th>TotalCharges</th>\n",
       "    </tr>\n",
       "  </thead>\n",
       "  <tbody>\n",
       "    <tr>\n",
       "      <th>356</th>\n",
       "      <td>Male</td>\n",
       "      <td>0</td>\n",
       "      <td>No</td>\n",
       "      <td>Yes</td>\n",
       "      <td>0</td>\n",
       "      <td>Yes</td>\n",
       "      <td>Yes</td>\n",
       "      <td>DSL</td>\n",
       "      <td>Yes</td>\n",
       "      <td>Yes</td>\n",
       "      <td>No</td>\n",
       "      <td>Yes</td>\n",
       "      <td>No</td>\n",
       "      <td>No</td>\n",
       "      <td>Two year</td>\n",
       "      <td>Yes</td>\n",
       "      <td>Bank transfer (automatic)</td>\n",
       "      <td>61.90</td>\n",
       "      <td>NaN</td>\n",
       "    </tr>\n",
       "    <tr>\n",
       "      <th>634</th>\n",
       "      <td>Female</td>\n",
       "      <td>0</td>\n",
       "      <td>Yes</td>\n",
       "      <td>Yes</td>\n",
       "      <td>0</td>\n",
       "      <td>No</td>\n",
       "      <td>No phone service</td>\n",
       "      <td>DSL</td>\n",
       "      <td>Yes</td>\n",
       "      <td>Yes</td>\n",
       "      <td>Yes</td>\n",
       "      <td>Yes</td>\n",
       "      <td>Yes</td>\n",
       "      <td>No</td>\n",
       "      <td>Two year</td>\n",
       "      <td>No</td>\n",
       "      <td>Credit card (automatic)</td>\n",
       "      <td>56.05</td>\n",
       "      <td>NaN</td>\n",
       "    </tr>\n",
       "    <tr>\n",
       "      <th>2771</th>\n",
       "      <td>Male</td>\n",
       "      <td>0</td>\n",
       "      <td>Yes</td>\n",
       "      <td>Yes</td>\n",
       "      <td>0</td>\n",
       "      <td>Yes</td>\n",
       "      <td>Yes</td>\n",
       "      <td>No</td>\n",
       "      <td>No internet service</td>\n",
       "      <td>No internet service</td>\n",
       "      <td>No internet service</td>\n",
       "      <td>No internet service</td>\n",
       "      <td>No internet service</td>\n",
       "      <td>No internet service</td>\n",
       "      <td>Two year</td>\n",
       "      <td>No</td>\n",
       "      <td>Mailed check</td>\n",
       "      <td>25.35</td>\n",
       "      <td>NaN</td>\n",
       "    </tr>\n",
       "    <tr>\n",
       "      <th>3086</th>\n",
       "      <td>Male</td>\n",
       "      <td>0</td>\n",
       "      <td>Yes</td>\n",
       "      <td>Yes</td>\n",
       "      <td>0</td>\n",
       "      <td>Yes</td>\n",
       "      <td>No</td>\n",
       "      <td>No</td>\n",
       "      <td>No internet service</td>\n",
       "      <td>No internet service</td>\n",
       "      <td>No internet service</td>\n",
       "      <td>No internet service</td>\n",
       "      <td>No internet service</td>\n",
       "      <td>No internet service</td>\n",
       "      <td>One year</td>\n",
       "      <td>Yes</td>\n",
       "      <td>Mailed check</td>\n",
       "      <td>19.70</td>\n",
       "      <td>NaN</td>\n",
       "    </tr>\n",
       "    <tr>\n",
       "      <th>3255</th>\n",
       "      <td>Male</td>\n",
       "      <td>0</td>\n",
       "      <td>Yes</td>\n",
       "      <td>Yes</td>\n",
       "      <td>0</td>\n",
       "      <td>Yes</td>\n",
       "      <td>No</td>\n",
       "      <td>No</td>\n",
       "      <td>No internet service</td>\n",
       "      <td>No internet service</td>\n",
       "      <td>No internet service</td>\n",
       "      <td>No internet service</td>\n",
       "      <td>No internet service</td>\n",
       "      <td>No internet service</td>\n",
       "      <td>Two year</td>\n",
       "      <td>No</td>\n",
       "      <td>Mailed check</td>\n",
       "      <td>19.85</td>\n",
       "      <td>NaN</td>\n",
       "    </tr>\n",
       "    <tr>\n",
       "      <th>4326</th>\n",
       "      <td>Female</td>\n",
       "      <td>0</td>\n",
       "      <td>Yes</td>\n",
       "      <td>Yes</td>\n",
       "      <td>0</td>\n",
       "      <td>Yes</td>\n",
       "      <td>No</td>\n",
       "      <td>DSL</td>\n",
       "      <td>Yes</td>\n",
       "      <td>Yes</td>\n",
       "      <td>Yes</td>\n",
       "      <td>No</td>\n",
       "      <td>Yes</td>\n",
       "      <td>Yes</td>\n",
       "      <td>Two year</td>\n",
       "      <td>No</td>\n",
       "      <td>Mailed check</td>\n",
       "      <td>80.85</td>\n",
       "      <td>NaN</td>\n",
       "    </tr>\n",
       "    <tr>\n",
       "      <th>5375</th>\n",
       "      <td>Male</td>\n",
       "      <td>0</td>\n",
       "      <td>No</td>\n",
       "      <td>Yes</td>\n",
       "      <td>0</td>\n",
       "      <td>Yes</td>\n",
       "      <td>No</td>\n",
       "      <td>No</td>\n",
       "      <td>No internet service</td>\n",
       "      <td>No internet service</td>\n",
       "      <td>No internet service</td>\n",
       "      <td>No internet service</td>\n",
       "      <td>No internet service</td>\n",
       "      <td>No internet service</td>\n",
       "      <td>Two year</td>\n",
       "      <td>No</td>\n",
       "      <td>Mailed check</td>\n",
       "      <td>20.25</td>\n",
       "      <td>NaN</td>\n",
       "    </tr>\n",
       "    <tr>\n",
       "      <th>5382</th>\n",
       "      <td>Female</td>\n",
       "      <td>0</td>\n",
       "      <td>Yes</td>\n",
       "      <td>Yes</td>\n",
       "      <td>0</td>\n",
       "      <td>Yes</td>\n",
       "      <td>No</td>\n",
       "      <td>No</td>\n",
       "      <td>No internet service</td>\n",
       "      <td>No internet service</td>\n",
       "      <td>No internet service</td>\n",
       "      <td>No internet service</td>\n",
       "      <td>No internet service</td>\n",
       "      <td>No internet service</td>\n",
       "      <td>Two year</td>\n",
       "      <td>No</td>\n",
       "      <td>Mailed check</td>\n",
       "      <td>20.00</td>\n",
       "      <td>NaN</td>\n",
       "    </tr>\n",
       "    <tr>\n",
       "      <th>5695</th>\n",
       "      <td>Female</td>\n",
       "      <td>0</td>\n",
       "      <td>Yes</td>\n",
       "      <td>Yes</td>\n",
       "      <td>0</td>\n",
       "      <td>No</td>\n",
       "      <td>No phone service</td>\n",
       "      <td>DSL</td>\n",
       "      <td>Yes</td>\n",
       "      <td>No</td>\n",
       "      <td>Yes</td>\n",
       "      <td>Yes</td>\n",
       "      <td>Yes</td>\n",
       "      <td>No</td>\n",
       "      <td>Two year</td>\n",
       "      <td>Yes</td>\n",
       "      <td>Bank transfer (automatic)</td>\n",
       "      <td>52.55</td>\n",
       "      <td>NaN</td>\n",
       "    </tr>\n",
       "    <tr>\n",
       "      <th>5951</th>\n",
       "      <td>Male</td>\n",
       "      <td>0</td>\n",
       "      <td>Yes</td>\n",
       "      <td>Yes</td>\n",
       "      <td>0</td>\n",
       "      <td>Yes</td>\n",
       "      <td>Yes</td>\n",
       "      <td>No</td>\n",
       "      <td>No internet service</td>\n",
       "      <td>No internet service</td>\n",
       "      <td>No internet service</td>\n",
       "      <td>No internet service</td>\n",
       "      <td>No internet service</td>\n",
       "      <td>No internet service</td>\n",
       "      <td>Two year</td>\n",
       "      <td>No</td>\n",
       "      <td>Mailed check</td>\n",
       "      <td>25.75</td>\n",
       "      <td>NaN</td>\n",
       "    </tr>\n",
       "  </tbody>\n",
       "</table>\n",
       "</div>"
      ],
      "text/plain": [
       "      gender  SeniorCitizen Partner Dependents  tenure PhoneService  \\\n",
       "356     Male              0      No        Yes       0          Yes   \n",
       "634   Female              0     Yes        Yes       0           No   \n",
       "2771    Male              0     Yes        Yes       0          Yes   \n",
       "3086    Male              0     Yes        Yes       0          Yes   \n",
       "3255    Male              0     Yes        Yes       0          Yes   \n",
       "4326  Female              0     Yes        Yes       0          Yes   \n",
       "5375    Male              0      No        Yes       0          Yes   \n",
       "5382  Female              0     Yes        Yes       0          Yes   \n",
       "5695  Female              0     Yes        Yes       0           No   \n",
       "5951    Male              0     Yes        Yes       0          Yes   \n",
       "\n",
       "         MultipleLines InternetService       OnlineSecurity  \\\n",
       "356                Yes             DSL                  Yes   \n",
       "634   No phone service             DSL                  Yes   \n",
       "2771               Yes              No  No internet service   \n",
       "3086                No              No  No internet service   \n",
       "3255                No              No  No internet service   \n",
       "4326                No             DSL                  Yes   \n",
       "5375                No              No  No internet service   \n",
       "5382                No              No  No internet service   \n",
       "5695  No phone service             DSL                  Yes   \n",
       "5951               Yes              No  No internet service   \n",
       "\n",
       "             OnlineBackup     DeviceProtection          TechSupport  \\\n",
       "356                   Yes                   No                  Yes   \n",
       "634                   Yes                  Yes                  Yes   \n",
       "2771  No internet service  No internet service  No internet service   \n",
       "3086  No internet service  No internet service  No internet service   \n",
       "3255  No internet service  No internet service  No internet service   \n",
       "4326                  Yes                  Yes                   No   \n",
       "5375  No internet service  No internet service  No internet service   \n",
       "5382  No internet service  No internet service  No internet service   \n",
       "5695                   No                  Yes                  Yes   \n",
       "5951  No internet service  No internet service  No internet service   \n",
       "\n",
       "              StreamingTV      StreamingMovies  Contract PaperlessBilling  \\\n",
       "356                    No                   No  Two year              Yes   \n",
       "634                   Yes                   No  Two year               No   \n",
       "2771  No internet service  No internet service  Two year               No   \n",
       "3086  No internet service  No internet service  One year              Yes   \n",
       "3255  No internet service  No internet service  Two year               No   \n",
       "4326                  Yes                  Yes  Two year               No   \n",
       "5375  No internet service  No internet service  Two year               No   \n",
       "5382  No internet service  No internet service  Two year               No   \n",
       "5695                  Yes                   No  Two year              Yes   \n",
       "5951  No internet service  No internet service  Two year               No   \n",
       "\n",
       "                  PaymentMethod  MonthlyCharges  TotalCharges  \n",
       "356   Bank transfer (automatic)           61.90           NaN  \n",
       "634     Credit card (automatic)           56.05           NaN  \n",
       "2771               Mailed check           25.35           NaN  \n",
       "3086               Mailed check           19.70           NaN  \n",
       "3255               Mailed check           19.85           NaN  \n",
       "4326               Mailed check           80.85           NaN  \n",
       "5375               Mailed check           20.25           NaN  \n",
       "5382               Mailed check           20.00           NaN  \n",
       "5695  Bank transfer (automatic)           52.55           NaN  \n",
       "5951               Mailed check           25.75           NaN  "
      ]
     },
     "execution_count": 14,
     "metadata": {},
     "output_type": "execute_result"
    }
   ],
   "source": [
    "df[df.TotalCharges.isnull()]"
   ]
  },
  {
   "cell_type": "markdown",
   "metadata": {},
   "source": [
    "# replace blank values of TotalCharges with 0"
   ]
  },
  {
   "cell_type": "code",
   "execution_count": 15,
   "metadata": {},
   "outputs": [
    {
     "name": "stderr",
     "output_type": "stream",
     "text": [
      "<ipython-input-15-f3e7f66893cd>:1: SettingWithCopyWarning: \n",
      "A value is trying to be set on a copy of a slice from a DataFrame\n",
      "\n",
      "See the caveats in the documentation: https://pandas.pydata.org/pandas-docs/stable/user_guide/indexing.html#returning-a-view-versus-a-copy\n",
      "  df['TotalCharges'][df.TotalCharges.isnull()]=0\n"
     ]
    },
    {
     "data": {
      "text/plain": [
       "gender              0\n",
       "SeniorCitizen       0\n",
       "Partner             0\n",
       "Dependents          0\n",
       "tenure              0\n",
       "PhoneService        0\n",
       "MultipleLines       0\n",
       "InternetService     0\n",
       "OnlineSecurity      0\n",
       "OnlineBackup        0\n",
       "DeviceProtection    0\n",
       "TechSupport         0\n",
       "StreamingTV         0\n",
       "StreamingMovies     0\n",
       "Contract            0\n",
       "PaperlessBilling    0\n",
       "PaymentMethod       0\n",
       "MonthlyCharges      0\n",
       "TotalCharges        0\n",
       "dtype: int64"
      ]
     },
     "execution_count": 15,
     "metadata": {},
     "output_type": "execute_result"
    }
   ],
   "source": [
    "df['TotalCharges'][df.TotalCharges.isnull()]=0\n",
    "df.isnull().sum()"
   ]
  },
  {
   "cell_type": "code",
   "execution_count": 16,
   "metadata": {},
   "outputs": [],
   "source": [
    "#df['TotalCharges'].apply(lambda x: float(x))"
   ]
  },
  {
   "cell_type": "markdown",
   "metadata": {},
   "source": [
    "# Seperate numerical and categorical columns"
   ]
  },
  {
   "cell_type": "code",
   "execution_count": 407,
   "metadata": {},
   "outputs": [],
   "source": [
    "object_col=df.dtypes=='object'\n",
    "object_col['SeniorCitizen']=True\n",
    "num_col = ~object_col"
   ]
  },
  {
   "cell_type": "markdown",
   "metadata": {},
   "source": [
    "# check how many unique values each ctegorical column contains"
   ]
  },
  {
   "cell_type": "code",
   "execution_count": 429,
   "metadata": {},
   "outputs": [
    {
     "name": "stdout",
     "output_type": "stream",
     "text": [
      "Column Name : gender : {'Male', 'Female'}  <-->  2\n",
      "Column Name : SeniorCitizen : {0, 1}  <-->  2\n",
      "Column Name : Partner : {'No', 'Yes'}  <-->  2\n",
      "Column Name : Dependents : {'No', 'Yes'}  <-->  2\n",
      "Column Name : PhoneService : {'No', 'Yes'}  <-->  2\n",
      "Column Name : MultipleLines : {'No', 'Yes', 'No phone service'}  <-->  3\n",
      "Column Name : InternetService : {'No', 'DSL', 'Fiber optic'}  <-->  3\n",
      "Column Name : OnlineSecurity : {'No', 'Yes', 'No internet service'}  <-->  3\n",
      "Column Name : OnlineBackup : {'No', 'Yes', 'No internet service'}  <-->  3\n",
      "Column Name : DeviceProtection : {'No', 'Yes', 'No internet service'}  <-->  3\n",
      "Column Name : TechSupport : {'No', 'Yes', 'No internet service'}  <-->  3\n",
      "Column Name : StreamingTV : {'No', 'Yes', 'No internet service'}  <-->  3\n",
      "Column Name : StreamingMovies : {'No', 'Yes', 'No internet service'}  <-->  3\n",
      "Column Name : Contract : {'Month-to-month', 'One year', 'Two year'}  <-->  3\n",
      "Column Name : PaperlessBilling : {'No', 'Yes'}  <-->  2\n",
      "Column Name : PaymentMethod : {'Bank transfer (automatic)', 'Credit card (automatic)', 'Mailed check', 'Electronic check'}  <-->  4\n"
     ]
    }
   ],
   "source": [
    "for col in df[df.columns[object_col]].columns:\n",
    "    print(\"Column Name :\",col,\":\",set(df[col]),\" <--> \",len(set(df[col])))"
   ]
  },
  {
   "cell_type": "code",
   "execution_count": 421,
   "metadata": {},
   "outputs": [
    {
     "data": {
      "text/plain": [
       "(4489, 19)"
      ]
     },
     "execution_count": 421,
     "metadata": {},
     "output_type": "execute_result"
    }
   ],
   "source": [
    "X_train.shape"
   ]
  },
  {
   "cell_type": "code",
   "execution_count": 260,
   "metadata": {
    "scrolled": true
   },
   "outputs": [
    {
     "data": {
      "text/html": [
       "<div>\n",
       "<style scoped>\n",
       "    .dataframe tbody tr th:only-of-type {\n",
       "        vertical-align: middle;\n",
       "    }\n",
       "\n",
       "    .dataframe tbody tr th {\n",
       "        vertical-align: top;\n",
       "    }\n",
       "\n",
       "    .dataframe thead th {\n",
       "        text-align: right;\n",
       "    }\n",
       "</style>\n",
       "<table border=\"1\" class=\"dataframe\">\n",
       "  <thead>\n",
       "    <tr style=\"text-align: right;\">\n",
       "      <th></th>\n",
       "      <th>gender</th>\n",
       "      <th>SeniorCitizen</th>\n",
       "      <th>Partner</th>\n",
       "      <th>Dependents</th>\n",
       "      <th>PhoneService</th>\n",
       "      <th>MultipleLines</th>\n",
       "      <th>InternetService</th>\n",
       "      <th>OnlineSecurity</th>\n",
       "      <th>OnlineBackup</th>\n",
       "      <th>DeviceProtection</th>\n",
       "      <th>TechSupport</th>\n",
       "      <th>StreamingTV</th>\n",
       "      <th>StreamingMovies</th>\n",
       "      <th>Contract</th>\n",
       "      <th>PaperlessBilling</th>\n",
       "      <th>PaymentMethod</th>\n",
       "    </tr>\n",
       "  </thead>\n",
       "  <tbody>\n",
       "    <tr>\n",
       "      <th>0</th>\n",
       "      <td>Male</td>\n",
       "      <td>0</td>\n",
       "      <td>Yes</td>\n",
       "      <td>Yes</td>\n",
       "      <td>Yes</td>\n",
       "      <td>Yes</td>\n",
       "      <td>No</td>\n",
       "      <td>No internet service</td>\n",
       "      <td>No internet service</td>\n",
       "      <td>No internet service</td>\n",
       "      <td>No internet service</td>\n",
       "      <td>No internet service</td>\n",
       "      <td>No internet service</td>\n",
       "      <td>Two year</td>\n",
       "      <td>No</td>\n",
       "      <td>Credit card (automatic)</td>\n",
       "    </tr>\n",
       "    <tr>\n",
       "      <th>1</th>\n",
       "      <td>Female</td>\n",
       "      <td>0</td>\n",
       "      <td>No</td>\n",
       "      <td>No</td>\n",
       "      <td>Yes</td>\n",
       "      <td>No</td>\n",
       "      <td>Fiber optic</td>\n",
       "      <td>No</td>\n",
       "      <td>Yes</td>\n",
       "      <td>Yes</td>\n",
       "      <td>No</td>\n",
       "      <td>Yes</td>\n",
       "      <td>No</td>\n",
       "      <td>Month-to-month</td>\n",
       "      <td>Yes</td>\n",
       "      <td>Credit card (automatic)</td>\n",
       "    </tr>\n",
       "    <tr>\n",
       "      <th>2</th>\n",
       "      <td>Female</td>\n",
       "      <td>1</td>\n",
       "      <td>Yes</td>\n",
       "      <td>No</td>\n",
       "      <td>Yes</td>\n",
       "      <td>Yes</td>\n",
       "      <td>Fiber optic</td>\n",
       "      <td>No</td>\n",
       "      <td>No</td>\n",
       "      <td>No</td>\n",
       "      <td>No</td>\n",
       "      <td>No</td>\n",
       "      <td>No</td>\n",
       "      <td>Month-to-month</td>\n",
       "      <td>Yes</td>\n",
       "      <td>Bank transfer (automatic)</td>\n",
       "    </tr>\n",
       "    <tr>\n",
       "      <th>3</th>\n",
       "      <td>Male</td>\n",
       "      <td>0</td>\n",
       "      <td>No</td>\n",
       "      <td>No</td>\n",
       "      <td>Yes</td>\n",
       "      <td>No</td>\n",
       "      <td>DSL</td>\n",
       "      <td>No</td>\n",
       "      <td>No</td>\n",
       "      <td>No</td>\n",
       "      <td>No</td>\n",
       "      <td>No</td>\n",
       "      <td>Yes</td>\n",
       "      <td>Month-to-month</td>\n",
       "      <td>Yes</td>\n",
       "      <td>Electronic check</td>\n",
       "    </tr>\n",
       "    <tr>\n",
       "      <th>4</th>\n",
       "      <td>Male</td>\n",
       "      <td>0</td>\n",
       "      <td>No</td>\n",
       "      <td>No</td>\n",
       "      <td>Yes</td>\n",
       "      <td>No</td>\n",
       "      <td>DSL</td>\n",
       "      <td>Yes</td>\n",
       "      <td>No</td>\n",
       "      <td>Yes</td>\n",
       "      <td>No</td>\n",
       "      <td>No</td>\n",
       "      <td>No</td>\n",
       "      <td>Month-to-month</td>\n",
       "      <td>No</td>\n",
       "      <td>Electronic check</td>\n",
       "    </tr>\n",
       "    <tr>\n",
       "      <th>...</th>\n",
       "      <td>...</td>\n",
       "      <td>...</td>\n",
       "      <td>...</td>\n",
       "      <td>...</td>\n",
       "      <td>...</td>\n",
       "      <td>...</td>\n",
       "      <td>...</td>\n",
       "      <td>...</td>\n",
       "      <td>...</td>\n",
       "      <td>...</td>\n",
       "      <td>...</td>\n",
       "      <td>...</td>\n",
       "      <td>...</td>\n",
       "      <td>...</td>\n",
       "      <td>...</td>\n",
       "      <td>...</td>\n",
       "    </tr>\n",
       "    <tr>\n",
       "      <th>5981</th>\n",
       "      <td>Male</td>\n",
       "      <td>0</td>\n",
       "      <td>Yes</td>\n",
       "      <td>No</td>\n",
       "      <td>Yes</td>\n",
       "      <td>No</td>\n",
       "      <td>Fiber optic</td>\n",
       "      <td>Yes</td>\n",
       "      <td>No</td>\n",
       "      <td>No</td>\n",
       "      <td>No</td>\n",
       "      <td>Yes</td>\n",
       "      <td>Yes</td>\n",
       "      <td>Month-to-month</td>\n",
       "      <td>Yes</td>\n",
       "      <td>Electronic check</td>\n",
       "    </tr>\n",
       "    <tr>\n",
       "      <th>5982</th>\n",
       "      <td>Female</td>\n",
       "      <td>0</td>\n",
       "      <td>Yes</td>\n",
       "      <td>Yes</td>\n",
       "      <td>Yes</td>\n",
       "      <td>Yes</td>\n",
       "      <td>DSL</td>\n",
       "      <td>Yes</td>\n",
       "      <td>Yes</td>\n",
       "      <td>Yes</td>\n",
       "      <td>Yes</td>\n",
       "      <td>Yes</td>\n",
       "      <td>Yes</td>\n",
       "      <td>Two year</td>\n",
       "      <td>Yes</td>\n",
       "      <td>Credit card (automatic)</td>\n",
       "    </tr>\n",
       "    <tr>\n",
       "      <th>5983</th>\n",
       "      <td>Male</td>\n",
       "      <td>0</td>\n",
       "      <td>Yes</td>\n",
       "      <td>Yes</td>\n",
       "      <td>Yes</td>\n",
       "      <td>No</td>\n",
       "      <td>No</td>\n",
       "      <td>No internet service</td>\n",
       "      <td>No internet service</td>\n",
       "      <td>No internet service</td>\n",
       "      <td>No internet service</td>\n",
       "      <td>No internet service</td>\n",
       "      <td>No internet service</td>\n",
       "      <td>Month-to-month</td>\n",
       "      <td>Yes</td>\n",
       "      <td>Electronic check</td>\n",
       "    </tr>\n",
       "    <tr>\n",
       "      <th>5984</th>\n",
       "      <td>Male</td>\n",
       "      <td>1</td>\n",
       "      <td>No</td>\n",
       "      <td>No</td>\n",
       "      <td>Yes</td>\n",
       "      <td>Yes</td>\n",
       "      <td>Fiber optic</td>\n",
       "      <td>No</td>\n",
       "      <td>No</td>\n",
       "      <td>Yes</td>\n",
       "      <td>No</td>\n",
       "      <td>Yes</td>\n",
       "      <td>Yes</td>\n",
       "      <td>Month-to-month</td>\n",
       "      <td>Yes</td>\n",
       "      <td>Electronic check</td>\n",
       "    </tr>\n",
       "    <tr>\n",
       "      <th>5985</th>\n",
       "      <td>Male</td>\n",
       "      <td>0</td>\n",
       "      <td>No</td>\n",
       "      <td>No</td>\n",
       "      <td>Yes</td>\n",
       "      <td>No</td>\n",
       "      <td>No</td>\n",
       "      <td>No internet service</td>\n",
       "      <td>No internet service</td>\n",
       "      <td>No internet service</td>\n",
       "      <td>No internet service</td>\n",
       "      <td>No internet service</td>\n",
       "      <td>No internet service</td>\n",
       "      <td>One year</td>\n",
       "      <td>No</td>\n",
       "      <td>Credit card (automatic)</td>\n",
       "    </tr>\n",
       "  </tbody>\n",
       "</table>\n",
       "<p>5986 rows × 16 columns</p>\n",
       "</div>"
      ],
      "text/plain": [
       "      gender  SeniorCitizen Partner Dependents PhoneService MultipleLines  \\\n",
       "0       Male              0     Yes        Yes          Yes           Yes   \n",
       "1     Female              0      No         No          Yes            No   \n",
       "2     Female              1     Yes         No          Yes           Yes   \n",
       "3       Male              0      No         No          Yes            No   \n",
       "4       Male              0      No         No          Yes            No   \n",
       "...      ...            ...     ...        ...          ...           ...   \n",
       "5981    Male              0     Yes         No          Yes            No   \n",
       "5982  Female              0     Yes        Yes          Yes           Yes   \n",
       "5983    Male              0     Yes        Yes          Yes            No   \n",
       "5984    Male              1      No         No          Yes           Yes   \n",
       "5985    Male              0      No         No          Yes            No   \n",
       "\n",
       "     InternetService       OnlineSecurity         OnlineBackup  \\\n",
       "0                 No  No internet service  No internet service   \n",
       "1        Fiber optic                   No                  Yes   \n",
       "2        Fiber optic                   No                   No   \n",
       "3                DSL                   No                   No   \n",
       "4                DSL                  Yes                   No   \n",
       "...              ...                  ...                  ...   \n",
       "5981     Fiber optic                  Yes                   No   \n",
       "5982             DSL                  Yes                  Yes   \n",
       "5983              No  No internet service  No internet service   \n",
       "5984     Fiber optic                   No                   No   \n",
       "5985              No  No internet service  No internet service   \n",
       "\n",
       "         DeviceProtection          TechSupport          StreamingTV  \\\n",
       "0     No internet service  No internet service  No internet service   \n",
       "1                     Yes                   No                  Yes   \n",
       "2                      No                   No                   No   \n",
       "3                      No                   No                   No   \n",
       "4                     Yes                   No                   No   \n",
       "...                   ...                  ...                  ...   \n",
       "5981                   No                   No                  Yes   \n",
       "5982                  Yes                  Yes                  Yes   \n",
       "5983  No internet service  No internet service  No internet service   \n",
       "5984                  Yes                   No                  Yes   \n",
       "5985  No internet service  No internet service  No internet service   \n",
       "\n",
       "          StreamingMovies        Contract PaperlessBilling  \\\n",
       "0     No internet service        Two year               No   \n",
       "1                      No  Month-to-month              Yes   \n",
       "2                      No  Month-to-month              Yes   \n",
       "3                     Yes  Month-to-month              Yes   \n",
       "4                      No  Month-to-month               No   \n",
       "...                   ...             ...              ...   \n",
       "5981                  Yes  Month-to-month              Yes   \n",
       "5982                  Yes        Two year              Yes   \n",
       "5983  No internet service  Month-to-month              Yes   \n",
       "5984                  Yes  Month-to-month              Yes   \n",
       "5985  No internet service        One year               No   \n",
       "\n",
       "                  PaymentMethod  \n",
       "0       Credit card (automatic)  \n",
       "1       Credit card (automatic)  \n",
       "2     Bank transfer (automatic)  \n",
       "3              Electronic check  \n",
       "4              Electronic check  \n",
       "...                         ...  \n",
       "5981           Electronic check  \n",
       "5982    Credit card (automatic)  \n",
       "5983           Electronic check  \n",
       "5984           Electronic check  \n",
       "5985    Credit card (automatic)  \n",
       "\n",
       "[5986 rows x 16 columns]"
      ]
     },
     "execution_count": 260,
     "metadata": {},
     "output_type": "execute_result"
    }
   ],
   "source": [
    "df[df.columns[object_col]]"
   ]
  },
  {
   "cell_type": "code",
   "execution_count": 408,
   "metadata": {},
   "outputs": [
    {
     "data": {
      "text/html": [
       "<div>\n",
       "<style scoped>\n",
       "    .dataframe tbody tr th:only-of-type {\n",
       "        vertical-align: middle;\n",
       "    }\n",
       "\n",
       "    .dataframe tbody tr th {\n",
       "        vertical-align: top;\n",
       "    }\n",
       "\n",
       "    .dataframe thead th {\n",
       "        text-align: right;\n",
       "    }\n",
       "</style>\n",
       "<table border=\"1\" class=\"dataframe\">\n",
       "  <thead>\n",
       "    <tr style=\"text-align: right;\">\n",
       "      <th></th>\n",
       "      <th>tenure</th>\n",
       "      <th>MonthlyCharges</th>\n",
       "      <th>TotalCharges</th>\n",
       "    </tr>\n",
       "  </thead>\n",
       "  <tbody>\n",
       "    <tr>\n",
       "      <th>0</th>\n",
       "      <td>72</td>\n",
       "      <td>24.10</td>\n",
       "      <td>1734.65</td>\n",
       "    </tr>\n",
       "    <tr>\n",
       "      <th>1</th>\n",
       "      <td>44</td>\n",
       "      <td>88.15</td>\n",
       "      <td>3973.20</td>\n",
       "    </tr>\n",
       "    <tr>\n",
       "      <th>2</th>\n",
       "      <td>38</td>\n",
       "      <td>74.95</td>\n",
       "      <td>2869.85</td>\n",
       "    </tr>\n",
       "    <tr>\n",
       "      <th>3</th>\n",
       "      <td>4</td>\n",
       "      <td>55.90</td>\n",
       "      <td>238.50</td>\n",
       "    </tr>\n",
       "    <tr>\n",
       "      <th>4</th>\n",
       "      <td>2</td>\n",
       "      <td>53.45</td>\n",
       "      <td>119.50</td>\n",
       "    </tr>\n",
       "    <tr>\n",
       "      <th>...</th>\n",
       "      <td>...</td>\n",
       "      <td>...</td>\n",
       "      <td>...</td>\n",
       "    </tr>\n",
       "    <tr>\n",
       "      <th>5981</th>\n",
       "      <td>1</td>\n",
       "      <td>95.00</td>\n",
       "      <td>95.00</td>\n",
       "    </tr>\n",
       "    <tr>\n",
       "      <th>5982</th>\n",
       "      <td>23</td>\n",
       "      <td>91.10</td>\n",
       "      <td>2198.30</td>\n",
       "    </tr>\n",
       "    <tr>\n",
       "      <th>5983</th>\n",
       "      <td>12</td>\n",
       "      <td>21.15</td>\n",
       "      <td>306.05</td>\n",
       "    </tr>\n",
       "    <tr>\n",
       "      <th>5984</th>\n",
       "      <td>12</td>\n",
       "      <td>99.45</td>\n",
       "      <td>1200.15</td>\n",
       "    </tr>\n",
       "    <tr>\n",
       "      <th>5985</th>\n",
       "      <td>26</td>\n",
       "      <td>19.80</td>\n",
       "      <td>457.30</td>\n",
       "    </tr>\n",
       "  </tbody>\n",
       "</table>\n",
       "<p>5986 rows × 3 columns</p>\n",
       "</div>"
      ],
      "text/plain": [
       "      tenure  MonthlyCharges  TotalCharges\n",
       "0         72           24.10       1734.65\n",
       "1         44           88.15       3973.20\n",
       "2         38           74.95       2869.85\n",
       "3          4           55.90        238.50\n",
       "4          2           53.45        119.50\n",
       "...      ...             ...           ...\n",
       "5981       1           95.00         95.00\n",
       "5982      23           91.10       2198.30\n",
       "5983      12           21.15        306.05\n",
       "5984      12           99.45       1200.15\n",
       "5985      26           19.80        457.30\n",
       "\n",
       "[5986 rows x 3 columns]"
      ]
     },
     "execution_count": 408,
     "metadata": {},
     "output_type": "execute_result"
    }
   ],
   "source": [
    "df[df.columns[num_col]]"
   ]
  },
  {
   "cell_type": "markdown",
   "metadata": {},
   "source": [
    "# EDA"
   ]
  },
  {
   "cell_type": "code",
   "execution_count": 262,
   "metadata": {},
   "outputs": [],
   "source": [
    "import seaborn as sns\n",
    "import matplotlib.pyplot as plt"
   ]
  },
  {
   "cell_type": "markdown",
   "metadata": {},
   "source": [
    "# EDA on categorical predictor"
   ]
  },
  {
   "cell_type": "code",
   "execution_count": 406,
   "metadata": {},
   "outputs": [],
   "source": [
    "cols=df[df.columns[object_col]].columns"
   ]
  },
  {
   "cell_type": "code",
   "execution_count": 266,
   "metadata": {},
   "outputs": [
    {
     "data": {
      "image/png": "[encoded data removed]",
      "text/plain": [
       "<Figure size 1440x1440 with 16 Axes>"
      ]
     },
     "metadata": {
      "needs_background": "light"
     },
     "output_type": "display_data"
    }
   ],
   "source": [
    "fig, axes = plt.subplots(4,4,figsize=(20,20))\n",
    "for i,axe in zip(range(16),axes.flatten()):\n",
    "    sns.countplot(target, data = df, hue=cols[i], ax=axe)\n",
    "plt.show()"
   ]
  },
  {
   "cell_type": "markdown",
   "metadata": {},
   "source": [
    "1.\tIn the very first figure which is gender against churn, gender does not seem to have much impact on target churn. Distribution of male, female for each target type is same. When churn is No, male female both increases in count whereas when is churn is Yes, male, and female both decreases in count. So, gender (male, female) does not seem to be a strong predictor.\n",
    "2.\tSimilar pattern we can observe in 1st figure of 2nd row, which is PhoneService against target churn. Distribution of male, female for each target is same.\n",
    "3.\tRest categorical columns follow different pattern against target churn for its different values (‘Yes’, ‘No’). So those all seem to be good predictor for the task at hand.\n"
   ]
  },
  {
   "cell_type": "markdown",
   "metadata": {},
   "source": [
    "# EDA on numerical predictor"
   ]
  },
  {
   "cell_type": "code",
   "execution_count": 267,
   "metadata": {},
   "outputs": [],
   "source": [
    "cols=df[df.columns[num_col]].columns"
   ]
  },
  {
   "cell_type": "code",
   "execution_count": 276,
   "metadata": {},
   "outputs": [
    {
     "data": {
      "image/png": "[encoded data removed]",
      "text/plain": [
       "<Figure size 1296x720 with 3 Axes>"
      ]
     },
     "metadata": {
      "needs_background": "light"
     },
     "output_type": "display_data"
    }
   ],
   "source": [
    "fig, axes = plt.subplots(1,3,figsize=(18,10))\n",
    "for i,axe in zip(range(3),axes.flatten()):\n",
    "    sns.boxplot(target, cols[i],data = df, ax=axe)\n",
    "plt.show()"
   ]
  },
  {
   "cell_type": "markdown",
   "metadata": {},
   "source": [
    "Following are observations of the above figure-\n",
    "\n",
    "<li>Customers churn when tenure is low (1st figure). \n",
    "<li>Customers churn when monthly charges are higher.\n",
    "<li>Customers churn when total charges are low.\n",
    "<li>For each numerical column, average value changes for different values of target, so all of them seem to be good predictors for this task. \n"
   ]
  },
  {
   "cell_type": "markdown",
   "metadata": {},
   "source": [
    "# Plot distribution of numerical predictor against target churn"
   ]
  },
  {
   "cell_type": "code",
   "execution_count": 468,
   "metadata": {},
   "outputs": [
    {
     "data": {
      "image/png": "[encoded data removed]",
      "text/plain": [
       "<Figure size 412x360 with 1 Axes>"
      ]
     },
     "metadata": {
      "needs_background": "light"
     },
     "output_type": "display_data"
    }
   ],
   "source": [
    "sns.FacetGrid(df1, hue='Churn', size=5 ) \\\n",
    "   .map(sns.distplot, \"tenure\") \\\n",
    "   .add_legend();\n",
    "plt.show();"
   ]
  },
  {
   "cell_type": "code",
   "execution_count": 469,
   "metadata": {},
   "outputs": [
    {
     "data": {
      "image/png": "[encoded data removed]",
      "text/plain": [
       "<Figure size 412x360 with 1 Axes>"
      ]
     },
     "metadata": {
      "needs_background": "light"
     },
     "output_type": "display_data"
    }
   ],
   "source": [
    "sns.FacetGrid(df1, hue='Churn', size=5 ) \\\n",
    "   .map(sns.distplot, \"MonthlyCharges\") \\\n",
    "   .add_legend();\n",
    "plt.show();"
   ]
  },
  {
   "cell_type": "markdown",
   "metadata": {},
   "source": [
    "Distrinution is indded different for differnt target values"
   ]
  },
  {
   "cell_type": "markdown",
   "metadata": {},
   "source": [
    "# 1- way Annova to check statistically which all numerical predictors are contributing to the target. "
   ]
  },
  {
   "cell_type": "code",
   "execution_count": null,
   "metadata": {},
   "outputs": [],
   "source": []
  },
  {
   "cell_type": "code",
   "execution_count": 277,
   "metadata": {},
   "outputs": [],
   "source": [
    "from scipy.stats import f_oneway"
   ]
  },
  {
   "cell_type": "code",
   "execution_count": 409,
   "metadata": {},
   "outputs": [],
   "source": [
    "cols=df[df.columns[num_col]].columns"
   ]
  },
  {
   "cell_type": "code",
   "execution_count": null,
   "metadata": {},
   "outputs": [],
   "source": []
  },
  {
   "cell_type": "code",
   "execution_count": 410,
   "metadata": {},
   "outputs": [
    {
     "name": "stdout",
     "output_type": "stream",
     "text": [
      "P-Value for ' tenure ' =  1.774696701316516e-170\n",
      "P-Value for ' MonthlyCharges ' =  4.0904880183731545e-48\n",
      "P-Value for ' TotalCharges ' =  4.0713147719280728e-53\n"
     ]
    },
    {
     "data": {
      "text/plain": [
       "['tenure', 'MonthlyCharges', 'TotalCharges']"
      ]
     },
     "execution_count": 410,
     "metadata": {},
     "output_type": "execute_result"
    }
   ],
   "source": [
    "num_cols=[]\n",
    "for col in cols:\n",
    "    res=f_oneway(df[col][target=='Yes'], df[col][target=='No'])\n",
    "    print(\"P-Value for '\",col,\"' = \",res[1])\n",
    "    if(res[1]<0.05):\n",
    "        num_cols.append(col)\n",
    "    \n",
    "num_cols    \n",
    "#suppressing scientific notation \n",
    "#https://www.kite.com/python/answers/how-to-suppress-scientific-notation-in-python#:~:text=Use%20a%20string%20literal%20to,format()%20."
   ]
  },
  {
   "cell_type": "markdown",
   "metadata": {},
   "source": [
    "# Chi Square Test to check statistically which all categorical predictors are contributing to target."
   ]
  },
  {
   "cell_type": "code",
   "execution_count": 280,
   "metadata": {
    "scrolled": true
   },
   "outputs": [
    {
     "name": "stdout",
     "output_type": "stream",
     "text": [
      "P-Value for  gender  =  0.4600692428\n",
      "P-Value for  SeniorCitizen  =  0.0000000000\n",
      "P-Value for  Partner  =  0.0000000000\n",
      "P-Value for  Dependents  =  0.0000000000\n",
      "P-Value for  PhoneService  =  0.4660500727\n",
      "P-Value for  MultipleLines  =  0.0191440653\n",
      "P-Value for  InternetService  =  0.0000000000\n",
      "P-Value for  OnlineSecurity  =  0.0000000000\n",
      "P-Value for  OnlineBackup  =  0.0000000000\n",
      "P-Value for  DeviceProtection  =  0.0000000000\n",
      "P-Value for  TechSupport  =  0.0000000000\n",
      "P-Value for  StreamingTV  =  0.0000000000\n",
      "P-Value for  StreamingMovies  =  0.0000000000\n",
      "P-Value for  Contract  =  0.0000000000\n",
      "P-Value for  PaperlessBilling  =  0.0000000000\n",
      "P-Value for  PaymentMethod  =  0.0000000000\n",
      "\n",
      " ['SeniorCitizen', 'Partner', 'Dependents', 'MultipleLines', 'InternetService', 'OnlineSecurity', 'OnlineBackup', 'DeviceProtection', 'TechSupport', 'StreamingTV', 'StreamingMovies', 'Contract', 'PaperlessBilling', 'PaymentMethod']\n"
     ]
    }
   ],
   "source": [
    "from scipy.stats import chi2_contingency\n",
    "\n",
    "cols=df[df.columns[object_col]].columns\n",
    "\n",
    "cat_cols=[]\n",
    "\n",
    "for col in cols:\n",
    "    pivot_df = pd.crosstab(index=df[col], columns=target)\n",
    "    chi2, p, dof, ex = chi2_contingency(pivot_df, correction=False)\n",
    "    print(\"P-Value for \",col,\" = \", '{:.10f}'.format(p))\n",
    "    if(p<0.05):\n",
    "        cat_cols.append(col)\n",
    "\n",
    "print(\"\\n\",cat_cols)"
   ]
  },
  {
   "cell_type": "markdown",
   "metadata": {},
   "source": [
    "except gender and phone service all seems to be impacting target Churn"
   ]
  },
  {
   "cell_type": "markdown",
   "metadata": {},
   "source": [
    "# collinearity check"
   ]
  },
  {
   "cell_type": "code",
   "execution_count": 281,
   "metadata": {},
   "outputs": [
    {
     "data": {
      "text/plain": [
       "<matplotlib.axes._subplots.AxesSubplot at 0x24b0ddb4eb0>"
      ]
     },
     "execution_count": 281,
     "metadata": {},
     "output_type": "execute_result"
    },
    {
     "data": {
      "image/png": "[encoded data removed]",
      "text/plain": [
       "<Figure size 432x288 with 2 Axes>"
      ]
     },
     "metadata": {
      "needs_background": "light"
     },
     "output_type": "display_data"
    }
   ],
   "source": [
    "sns.heatmap(df[df.columns[num_col]].corr(),annot=True)"
   ]
  },
  {
   "cell_type": "code",
   "execution_count": 380,
   "metadata": {},
   "outputs": [],
   "source": [
    "from statsmodels.stats.outliers_influence import variance_inflation_factor"
   ]
  },
  {
   "cell_type": "code",
   "execution_count": 382,
   "metadata": {},
   "outputs": [
    {
     "name": "stdout",
     "output_type": "stream",
     "text": [
      "tenure             5.871210\n",
      "MonthlyCharges     3.250388\n",
      "TotalCharges       9.642726\n",
      "const             14.948593\n",
      "dtype: float64\n"
     ]
    }
   ],
   "source": [
    "num_df=df[df.columns[num_col]]\n",
    "num_df['const']=1\n",
    "\n",
    "vif = pd.Series([variance_inflation_factor(num_df.values, i) for i in range(num_df.shape[1])],index=num_df.columns)\n",
    "print(vif)"
   ]
  },
  {
   "cell_type": "code",
   "execution_count": 402,
   "metadata": {},
   "outputs": [],
   "source": [
    "#num_col['TotalCharges']=False"
   ]
  },
  {
   "cell_type": "markdown",
   "metadata": {},
   "source": [
    "# Creating pipeline and applying Cross Validation"
   ]
  },
  {
   "cell_type": "code",
   "execution_count": 87,
   "metadata": {},
   "outputs": [],
   "source": [
    "from sklearn.preprocessing import OneHotEncoder,StandardScaler\n",
    "from sklearn.pipeline import make_pipeline\n",
    "from sklearn.compose import make_column_transformer, ColumnTransformer\n",
    "from sklearn.impute import SimpleImputer\n",
    "import numpy as np\n",
    "from sklearn.model_selection import train_test_split"
   ]
  },
  {
   "cell_type": "code",
   "execution_count": 286,
   "metadata": {},
   "outputs": [],
   "source": [
    "categorical=df[df.columns[object_col]].columns\n",
    "numerical=df[df.columns[num_col]].columns\n",
    "\n",
    "ct = ColumnTransformer([\n",
    "                                (\"imp\", SimpleImputer(missing_values=0, strategy='mean'), numerical),\n",
    "                                (\"ohe\", OneHotEncoder(handle_unknown='ignore'), categorical)\n",
    "                        ])"
   ]
  },
  {
   "cell_type": "code",
   "execution_count": null,
   "metadata": {},
   "outputs": [],
   "source": []
  },
  {
   "cell_type": "code",
   "execution_count": 289,
   "metadata": {},
   "outputs": [],
   "source": [
    "X_train, X_test, y_train, y_test = train_test_split(df, target)"
   ]
  },
  {
   "cell_type": "code",
   "execution_count": 290,
   "metadata": {},
   "outputs": [],
   "source": [
    "from sklearn.linear_model import LogisticRegression\n",
    "from sklearn.model_selection import cross_val_score,cross_val_predict\n",
    "\n",
    "from sklearn.svm import SVC\n",
    "from sklearn.tree import DecisionTreeClassifier\n",
    "from sklearn.ensemble import GradientBoostingClassifier,RandomForestClassifier\n",
    "from sklearn.metrics import f1_score,confusion_matrix,accuracy_score,precision_score,recall_score"
   ]
  },
  {
   "cell_type": "code",
   "execution_count": 340,
   "metadata": {},
   "outputs": [],
   "source": [
    "algo=pd.DataFrame(columns=['Accuracy','F1-Score','Precision','Recall','Parameter'])"
   ]
  },
  {
   "cell_type": "code",
   "execution_count": 342,
   "metadata": {},
   "outputs": [
    {
     "name": "stdout",
     "output_type": "stream",
     "text": [
      "\n",
      "                        Accuracy  F1-Score  Precision    Recall Parameter\n",
      "DecisionTreeClassifier  0.724883  0.723859   0.722888  0.724883   Default\n"
     ]
    },
    {
     "data": {
      "text/plain": [
       "<matplotlib.axes._subplots.AxesSubplot at 0x24b0faeff70>"
      ]
     },
     "execution_count": 342,
     "metadata": {},
     "output_type": "execute_result"
    },
    {
     "data": {
      "image/png": "[encoded data removed]",
      "text/plain": [
       "<Figure size 720x216 with 2 Axes>"
      ]
     },
     "metadata": {
      "needs_background": "light"
     },
     "output_type": "display_data"
    }
   ],
   "source": [
    "model_d = make_pipeline(ct, DecisionTreeClassifier())\n",
    "pred = cross_val_predict(model_d, X_train, y_train, cv=5)\n",
    "\n",
    "accuracy=accuracy_score(y_train,pred)\n",
    "f1=f1_score(y_train, pred, average='weighted')\n",
    "precision=precision_score(y_train, pred, average='weighted')\n",
    "recall=recall_score(y_train, pred, average='weighted')\n",
    "confusion=confusion_matrix(y_train,pred)\n",
    "\n",
    "model='DecisionTreeClassifier'\n",
    "\n",
    "algo.loc[model]=[accuracy,f1,precision,recall,'Default']\n",
    "\n",
    "#print(\"DecisionTreeClassifier f1_score = \", f1)\n",
    "\n",
    "#confusion=confusion_matrix(y_train,pred)\n",
    "\n",
    "print(\"\")\n",
    "print(algo)\n",
    "\n",
    "#print(\"\\n******Confusion Matrics*******\")\n",
    "plt.figure(figsize=(10,3))\n",
    "plt.title(\"****************** Confusion Matrics \"+model+\" ****************\")\n",
    "sns.heatmap(confusion,annot=True,fmt='d',cmap='Blues')"
   ]
  },
  {
   "cell_type": "code",
   "execution_count": 343,
   "metadata": {},
   "outputs": [
    {
     "name": "stdout",
     "output_type": "stream",
     "text": [
      "\n",
      "                        Accuracy  F1-Score  Precision    Recall Parameter\n",
      "DecisionTreeClassifier  0.724883  0.723859   0.722888  0.724883   Default\n",
      "LogisticRegression      0.803074  0.796255   0.793968  0.803074   Default\n"
     ]
    },
    {
     "data": {
      "text/plain": [
       "<matplotlib.axes._subplots.AxesSubplot at 0x24b0d36f790>"
      ]
     },
     "execution_count": 343,
     "metadata": {},
     "output_type": "execute_result"
    },
    {
     "data": {
      "image/png": "[encoded data removed]",
      "text/plain": [
       "<Figure size 720x216 with 2 Axes>"
      ]
     },
     "metadata": {
      "needs_background": "light"
     },
     "output_type": "display_data"
    }
   ],
   "source": [
    "model1 = make_pipeline(ct, LogisticRegression())\n",
    "pred = cross_val_predict(model1, X_train, y_train, cv=5)\n",
    "\n",
    "accuracy=accuracy_score(y_train,pred)\n",
    "f1=f1_score(y_train, pred, average='weighted')\n",
    "precision=precision_score(y_train, pred, average='weighted')\n",
    "recall=recall_score(y_train, pred, average='weighted')\n",
    "confusion=confusion_matrix(y_train,pred)\n",
    "\n",
    "model='LogisticRegression'\n",
    "\n",
    "algo.loc[model]=[accuracy,f1,precision,recall,'Default']\n",
    "\n",
    "#print(\"DecisionTreeClassifier f1_score = \", f1)\n",
    "\n",
    "#confusion=confusion_matrix(y_train,pred)\n",
    "\n",
    "print(\"\")\n",
    "print(algo)\n",
    "\n",
    "#print(\"\\n******Confusion Matrics*******\")\n",
    "plt.figure(figsize=(10,3))\n",
    "plt.title(\"****************** Confusion Matrics \"+model+\" ****************\")\n",
    "sns.heatmap(confusion,annot=True,fmt='d',cmap='Blues')"
   ]
  },
  {
   "cell_type": "code",
   "execution_count": 344,
   "metadata": {},
   "outputs": [
    {
     "name": "stdout",
     "output_type": "stream",
     "text": [
      "\n",
      "                        Accuracy  F1-Score  Precision    Recall Parameter\n",
      "DecisionTreeClassifier  0.724883  0.723859   0.722888  0.724883   Default\n",
      "LogisticRegression      0.803074  0.796255   0.793968  0.803074   Default\n",
      "RandomForestClassifier  0.789040  0.778740   0.776448  0.789040   Default\n"
     ]
    },
    {
     "data": {
      "text/plain": [
       "<matplotlib.axes._subplots.AxesSubplot at 0x24b10e7abe0>"
      ]
     },
     "execution_count": 344,
     "metadata": {},
     "output_type": "execute_result"
    },
    {
     "data": {
      "image/png": "[encoded data removed]",
      "text/plain": [
       "<Figure size 720x216 with 2 Axes>"
      ]
     },
     "metadata": {
      "needs_background": "light"
     },
     "output_type": "display_data"
    }
   ],
   "source": [
    "model2 = make_pipeline(ct, RandomForestClassifier())\n",
    "pred = cross_val_predict(model2, X_train, y_train, cv=5)\n",
    "\n",
    "accuracy=accuracy_score(y_train,pred)\n",
    "f1=f1_score(y_train, pred, average='weighted')\n",
    "precision=precision_score(y_train, pred, average='weighted')\n",
    "recall=recall_score(y_train, pred, average='weighted')\n",
    "confusion=confusion_matrix(y_train,pred)\n",
    "\n",
    "model='RandomForestClassifier'\n",
    "\n",
    "algo.loc[model]=[accuracy,f1,precision,recall,'Default']\n",
    "\n",
    "#print(\"DecisionTreeClassifier f1_score = \", f1)\n",
    "\n",
    "#confusion=confusion_matrix(y_train,pred)\n",
    "\n",
    "print(\"\")\n",
    "print(algo)\n",
    "\n",
    "#print(\"\\n******Confusion Matrics*******\")\n",
    "plt.figure(figsize=(10,3))\n",
    "plt.title(\"****************** Confusion Matrics \"+model+\" ****************\")\n",
    "sns.heatmap(confusion,annot=True,fmt='d',cmap='Blues')"
   ]
  },
  {
   "cell_type": "code",
   "execution_count": 379,
   "metadata": {},
   "outputs": [
    {
     "name": "stdout",
     "output_type": "stream",
     "text": [
      "\n",
      "                            Accuracy  F1-Score  Precision    Recall Parameter\n",
      "DecisionTreeClassifier      0.724883  0.723859   0.722888  0.724883   Default\n",
      "LogisticRegression          0.803074  0.796255   0.793968  0.803074   Default\n",
      "RandomForestClassifier      0.789040  0.778740   0.776448  0.789040   Default\n",
      "GradientBoostingClassifier  0.799287  0.790536   0.788550  0.799287   Default\n"
     ]
    },
    {
     "data": {
      "text/plain": [
       "<matplotlib.axes._subplots.AxesSubplot at 0x24b10985a60>"
      ]
     },
     "execution_count": 379,
     "metadata": {},
     "output_type": "execute_result"
    },
    {
     "data": {
      "image/png": "[encoded data removed]",
      "text/plain": [
       "<Figure size 720x216 with 2 Axes>"
      ]
     },
     "metadata": {
      "needs_background": "light"
     },
     "output_type": "display_data"
    }
   ],
   "source": [
    "model3 = make_pipeline(ct, GradientBoostingClassifier())\n",
    "pred = cross_val_predict(model3, X_train, y_train, cv=5)\n",
    "\n",
    "accuracy=accuracy_score(y_train,pred)\n",
    "f1=f1_score(y_train, pred, average='weighted')\n",
    "precision=precision_score(y_train, pred, average='weighted')\n",
    "recall=recall_score(y_train, pred, average='weighted')\n",
    "confusion=confusion_matrix(y_train,pred)\n",
    "\n",
    "model='GradientBoostingClassifier'\n",
    "\n",
    "algo.loc[model]=[accuracy,f1,precision,recall,'Default']\n",
    "\n",
    "#print(\"DecisionTreeClassifier f1_score = \", f1)\n",
    "\n",
    "#confusion=confusion_matrix(y_train,pred)\n",
    "\n",
    "print(\"\")\n",
    "print(algo)\n",
    "\n",
    "#print(\"\\n******Confusion Matrics*******\")\n",
    "plt.figure(figsize=(10,3))\n",
    "plt.title(\"****************** Confusion Matrics \"+model+\" ****************\")\n",
    "sns.heatmap(confusion,annot=True,fmt='d',cmap='Blues')"
   ]
  },
  {
   "cell_type": "code",
   "execution_count": 375,
   "metadata": {},
   "outputs": [
    {
     "name": "stdout",
     "output_type": "stream",
     "text": [
      "SVC =  0.7357986160252066\n"
     ]
    }
   ],
   "source": [
    "model4 = make_pipeline(ct, SVC())\n",
    "score = cross_val_score(model4, X_train, y_train, cv=5)\n",
    "print(\"SVC = \", np.mean(score))"
   ]
  },
  {
   "cell_type": "code",
   "execution_count": null,
   "metadata": {},
   "outputs": [],
   "source": []
  },
  {
   "cell_type": "markdown",
   "metadata": {},
   "source": [
    "# Try training the models with selected features only(after removing “gender” and “PhoneService” )"
   ]
  },
  {
   "cell_type": "code",
   "execution_count": 475,
   "metadata": {},
   "outputs": [],
   "source": [
    "ct_selected = ColumnTransformer([\n",
    "                                (\"imp\", SimpleImputer(missing_values=0, strategy='mean'), num_cols),\n",
    "                                (\"ohe\", OneHotEncoder(handle_unknown='ignore'), cat_cols)\n",
    "                        ])"
   ]
  },
  {
   "cell_type": "code",
   "execution_count": 476,
   "metadata": {},
   "outputs": [
    {
     "name": "stdout",
     "output_type": "stream",
     "text": [
      "(4489, 42)\n",
      "(4489, 19)\n"
     ]
    }
   ],
   "source": [
    "x1=ct_selected.fit_transform(X_train)\n",
    "x2=ct.fit_transform(X_train)\n",
    "\n",
    "print(x1.shape)\n",
    "print(x2.shape)"
   ]
  },
  {
   "cell_type": "code",
   "execution_count": null,
   "metadata": {},
   "outputs": [],
   "source": []
  },
  {
   "cell_type": "code",
   "execution_count": 477,
   "metadata": {},
   "outputs": [],
   "source": [
    "algo=pd.DataFrame(columns=['Accuracy','F1-Score','Precision','Recall','Parameter'])"
   ]
  },
  {
   "cell_type": "code",
   "execution_count": 478,
   "metadata": {},
   "outputs": [
    {
     "name": "stdout",
     "output_type": "stream",
     "text": [
      "\n",
      "                        Accuracy  F1-Score  Precision    Recall Parameter\n",
      "DecisionTreeClassifier  0.724883  0.723391   0.722009  0.724883   Default\n"
     ]
    },
    {
     "data": {
      "text/plain": [
       "<matplotlib.axes._subplots.AxesSubplot at 0x24b10b22220>"
      ]
     },
     "execution_count": 478,
     "metadata": {},
     "output_type": "execute_result"
    },
    {
     "data": {
      "image/png": "[encoded data removed]",
      "text/plain": [
       "<Figure size 720x216 with 2 Axes>"
      ]
     },
     "metadata": {
      "needs_background": "light"
     },
     "output_type": "display_data"
    }
   ],
   "source": [
    "model_d = make_pipeline(ct_selected, DecisionTreeClassifier())\n",
    "pred = cross_val_predict(model_d, X_train, y_train, cv=5)\n",
    "\n",
    "accuracy=accuracy_score(y_train,pred)\n",
    "f1=f1_score(y_train, pred, average='weighted')\n",
    "precision=precision_score(y_train, pred, average='weighted')\n",
    "recall=recall_score(y_train, pred, average='weighted')\n",
    "confusion=confusion_matrix(y_train,pred)\n",
    "\n",
    "model='DecisionTreeClassifier'\n",
    "\n",
    "algo.loc[model]=[accuracy,f1,precision,recall,'Default']\n",
    "\n",
    "#print(\"DecisionTreeClassifier f1_score = \", f1)\n",
    "\n",
    "#confusion=confusion_matrix(y_train,pred)\n",
    "\n",
    "print(\"\")\n",
    "print(algo)\n",
    "\n",
    "#print(\"\\n******Confusion Matrics*******\")\n",
    "plt.figure(figsize=(10,3))\n",
    "plt.title(\"****************** Confusion Matrics \"+model+\" ****************\")\n",
    "sns.heatmap(confusion,annot=True,fmt='d',cmap='Blues')"
   ]
  },
  {
   "cell_type": "code",
   "execution_count": 479,
   "metadata": {},
   "outputs": [
    {
     "name": "stdout",
     "output_type": "stream",
     "text": [
      "\n",
      "                        Accuracy  F1-Score  Precision    Recall Parameter\n",
      "DecisionTreeClassifier  0.724883  0.723391   0.722009  0.724883   Default\n",
      "LogisticRegression      0.803297  0.797095   0.794722  0.803297   Default\n"
     ]
    },
    {
     "data": {
      "text/plain": [
       "<matplotlib.axes._subplots.AxesSubplot at 0x24b105bc880>"
      ]
     },
     "execution_count": 479,
     "metadata": {},
     "output_type": "execute_result"
    },
    {
     "data": {
      "image/png": "[encoded data removed]",
      "text/plain": [
       "<Figure size 720x216 with 2 Axes>"
      ]
     },
     "metadata": {
      "needs_background": "light"
     },
     "output_type": "display_data"
    }
   ],
   "source": [
    "model1 = make_pipeline(ct_selected, LogisticRegression())\n",
    "pred = cross_val_predict(model1, X_train, y_train, cv=5)\n",
    "\n",
    "accuracy=accuracy_score(y_train,pred)\n",
    "f1=f1_score(y_train, pred, average='weighted')\n",
    "precision=precision_score(y_train, pred, average='weighted')\n",
    "recall=recall_score(y_train, pred, average='weighted')\n",
    "confusion=confusion_matrix(y_train,pred)\n",
    "\n",
    "model='LogisticRegression'\n",
    "\n",
    "algo.loc[model]=[accuracy,f1,precision,recall,'Default']\n",
    "\n",
    "#print(\"DecisionTreeClassifier f1_score = \", f1)\n",
    "\n",
    "#confusion=confusion_matrix(y_train,pred)\n",
    "\n",
    "print(\"\")\n",
    "print(algo)\n",
    "\n",
    "#print(\"\\n******Confusion Matrics*******\")\n",
    "plt.figure(figsize=(10,3))\n",
    "plt.title(\"****************** Confusion Matrics \"+model+\" ****************\")\n",
    "sns.heatmap(confusion,annot=True,fmt='d',cmap='Blues')"
   ]
  },
  {
   "cell_type": "code",
   "execution_count": 480,
   "metadata": {},
   "outputs": [
    {
     "name": "stdout",
     "output_type": "stream",
     "text": [
      "\n",
      "                        Accuracy  F1-Score  Precision    Recall Parameter\n",
      "DecisionTreeClassifier  0.724883  0.723391   0.722009  0.724883   Default\n",
      "LogisticRegression      0.803297  0.797095   0.794722  0.803297   Default\n",
      "RandomForestClassifier  0.783025  0.772120   0.769482  0.783025   Default\n"
     ]
    },
    {
     "data": {
      "text/plain": [
       "<matplotlib.axes._subplots.AxesSubplot at 0x24b111eba00>"
      ]
     },
     "execution_count": 480,
     "metadata": {},
     "output_type": "execute_result"
    },
    {
     "data": {
      "image/png": "[encoded data removed]",
      "text/plain": [
       "<Figure size 720x216 with 2 Axes>"
      ]
     },
     "metadata": {
      "needs_background": "light"
     },
     "output_type": "display_data"
    }
   ],
   "source": [
    "model2 = make_pipeline(ct_selected, RandomForestClassifier())\n",
    "pred = cross_val_predict(model2, X_train, y_train, cv=5)\n",
    "\n",
    "accuracy=accuracy_score(y_train,pred)\n",
    "f1=f1_score(y_train, pred, average='weighted')\n",
    "precision=precision_score(y_train, pred, average='weighted')\n",
    "recall=recall_score(y_train, pred, average='weighted')\n",
    "confusion=confusion_matrix(y_train,pred)\n",
    "\n",
    "model='RandomForestClassifier'\n",
    "\n",
    "algo.loc[model]=[accuracy,f1,precision,recall,'Default']\n",
    "\n",
    "#print(\"DecisionTreeClassifier f1_score = \", f1)\n",
    "\n",
    "#confusion=confusion_matrix(y_train,pred)\n",
    "\n",
    "print(\"\")\n",
    "print(algo)\n",
    "\n",
    "#print(\"\\n******Confusion Matrics*******\")\n",
    "plt.figure(figsize=(10,3))\n",
    "plt.title(\"****************** Confusion Matrics \"+model+\" ****************\")\n",
    "sns.heatmap(confusion,annot=True,fmt='d',cmap='Blues')"
   ]
  },
  {
   "cell_type": "code",
   "execution_count": 481,
   "metadata": {},
   "outputs": [
    {
     "name": "stdout",
     "output_type": "stream",
     "text": [
      "\n",
      "                            Accuracy  F1-Score  Precision    Recall Parameter\n",
      "DecisionTreeClassifier      0.724883  0.723391   0.722009  0.724883   Default\n",
      "LogisticRegression          0.803297  0.797095   0.794722  0.803297   Default\n",
      "RandomForestClassifier      0.783025  0.772120   0.769482  0.783025   Default\n",
      "GradientBoostingClassifier  0.797728  0.789028   0.786903  0.797728   Default\n"
     ]
    },
    {
     "data": {
      "text/plain": [
       "<matplotlib.axes._subplots.AxesSubplot at 0x24b1070bfa0>"
      ]
     },
     "execution_count": 481,
     "metadata": {},
     "output_type": "execute_result"
    },
    {
     "data": {
      "image/png": "[encoded data removed]",
      "text/plain": [
       "<Figure size 720x216 with 2 Axes>"
      ]
     },
     "metadata": {
      "needs_background": "light"
     },
     "output_type": "display_data"
    }
   ],
   "source": [
    "model3 = make_pipeline(ct_selected, GradientBoostingClassifier())\n",
    "pred = cross_val_predict(model3, X_train, y_train, cv=5)\n",
    "\n",
    "accuracy=accuracy_score(y_train,pred)\n",
    "f1=f1_score(y_train, pred, average='weighted')\n",
    "precision=precision_score(y_train, pred, average='weighted')\n",
    "recall=recall_score(y_train, pred, average='weighted')\n",
    "confusion=confusion_matrix(y_train,pred)\n",
    "\n",
    "model='GradientBoostingClassifier'\n",
    "\n",
    "algo.loc[model]=[accuracy,f1,precision,recall,'Default']\n",
    "\n",
    "#print(\"DecisionTreeClassifier f1_score = \", f1)\n",
    "\n",
    "#confusion=confusion_matrix(y_train,pred)\n",
    "\n",
    "print(\"\")\n",
    "print(algo)\n",
    "\n",
    "#print(\"\\n******Confusion Matrics*******\")\n",
    "plt.figure(figsize=(10,3))\n",
    "plt.title(\"****************** Confusion Matrics \"+model+\" ****************\")\n",
    "sns.heatmap(confusion,annot=True,fmt='d',cmap='Blues')"
   ]
  },
  {
   "cell_type": "code",
   "execution_count": 482,
   "metadata": {},
   "outputs": [],
   "source": [
    "# model8 = make_pipeline(ct, SVC(kernel='linear'))\n",
    "# score = cross_val_score(model8, X_train, y_train, cv=5)\n",
    "# print(\"SVC = \", np.mean(score))"
   ]
  },
  {
   "cell_type": "markdown",
   "metadata": {},
   "source": [
    "# Hyperparameter Tunning with selected featues only"
   ]
  },
  {
   "cell_type": "code",
   "execution_count": 346,
   "metadata": {},
   "outputs": [],
   "source": [
    "from sklearn.model_selection import GridSearchCV"
   ]
  },
  {
   "cell_type": "code",
   "execution_count": 347,
   "metadata": {},
   "outputs": [],
   "source": [
    "param_grid = {}"
   ]
  },
  {
   "cell_type": "code",
   "execution_count": 348,
   "metadata": {},
   "outputs": [],
   "source": [
    "param_grid['DecisionTreeClassifier'] = { \n",
    "                                         'decisiontreeclassifier__criterion':['gini','entropy'],\n",
    "                                         'decisiontreeclassifier__max_depth': np.arange(3, 15) \n",
    "                                       }"
   ]
  },
  {
   "cell_type": "code",
   "execution_count": 349,
   "metadata": {},
   "outputs": [
    {
     "name": "stdout",
     "output_type": "stream",
     "text": [
      "0.7865883059840646\n",
      "{'decisiontreeclassifier__criterion': 'gini', 'decisiontreeclassifier__max_depth': 4}\n"
     ]
    }
   ],
   "source": [
    "grid = GridSearchCV(model_d, param_grid['DecisionTreeClassifier'], cv=5)\n",
    "grid.fit(X_train, y_train)\n",
    "#final_grid[i] = grid\n",
    "test_mean = grid.cv_results_['mean_test_score']\n",
    "\n",
    "print(grid.best_score_)\n",
    "print(grid.best_params_)"
   ]
  },
  {
   "cell_type": "code",
   "execution_count": null,
   "metadata": {},
   "outputs": [],
   "source": []
  },
  {
   "cell_type": "code",
   "execution_count": null,
   "metadata": {},
   "outputs": [],
   "source": []
  },
  {
   "cell_type": "code",
   "execution_count": 352,
   "metadata": {},
   "outputs": [
    {
     "name": "stdout",
     "output_type": "stream",
     "text": [
      "0.808417814392444\n",
      "{'logisticregression__C': 0.03162277660168379}\n"
     ]
    }
   ],
   "source": [
    "param_grid={'logisticregression__C':np.logspace(-3, 3, 5)}\n",
    "\n",
    "#clf = LogisticRegression()\n",
    "grid = GridSearchCV(model1, param_grid, cv=5)\n",
    "grid.fit(X_train, y_train)\n",
    "\n",
    "print(grid.best_score_)\n",
    "print(grid.best_params_)"
   ]
  },
  {
   "cell_type": "code",
   "execution_count": 307,
   "metadata": {},
   "outputs": [],
   "source": [
    "\n",
    "param_grid['Random'] = {'randomforestclassifier__n_estimators': [100,200,300],\n",
    "                        'randomforestclassifier__max_features':[\"auto\", \"sqrt\", \"log2\"],\n",
    "                        'randomforestclassifier__min_samples_split':[2,4,8],\n",
    "                       }"
   ]
  },
  {
   "cell_type": "code",
   "execution_count": 318,
   "metadata": {},
   "outputs": [
    {
     "name": "stdout",
     "output_type": "stream",
     "text": [
      "0.799730107534891\n",
      "{'randomforestclassifier__max_features': 'log2', 'randomforestclassifier__min_samples_split': 8, 'randomforestclassifier__n_estimators': 100}\n"
     ]
    }
   ],
   "source": [
    "grid = GridSearchCV(model2, param_grid['Random'], cv=5)\n",
    "grid.fit(X_train, y_train)\n",
    "#final_grid[i] = grid\n",
    "test_mean = grid.cv_results_['mean_test_score']\n",
    "\n",
    "print(grid.best_score_)\n",
    "print(grid.best_params_)"
   ]
  },
  {
   "cell_type": "code",
   "execution_count": 319,
   "metadata": {},
   "outputs": [],
   "source": [
    "# print(grid.best_score_)\n",
    "# print(grid.best_params_)"
   ]
  },
  {
   "cell_type": "code",
   "execution_count": 156,
   "metadata": {},
   "outputs": [],
   "source": [
    "param_grid['SVC'] = {'svc__kernel': ('linear','poly'),\n",
    "                     'svc__C':[1, 10],\n",
    "                     'svc__gamma': [1e-7, 1e-4]\n",
    "        \n",
    "                    }"
   ]
  },
  {
   "cell_type": "code",
   "execution_count": 311,
   "metadata": {},
   "outputs": [],
   "source": [
    "grid = GridSearchCV(model4, param_grid['SVC'], cv=5)\n",
    "grid.fit(X_train, y_train)\n",
    "#final_grid[i] = grid\n",
    "test_mean = grid.cv_results_['mean_test_score']\n",
    "\n",
    "\n",
    "print(grid.best_score_)\n",
    "print(grid.best_params_)"
   ]
  },
  {
   "cell_type": "code",
   "execution_count": null,
   "metadata": {},
   "outputs": [],
   "source": []
  },
  {
   "cell_type": "code",
   "execution_count": 147,
   "metadata": {},
   "outputs": [],
   "source": [
    "# param_grid['XGBoost'] = {'gradientboostingregressor__n_estimators': [10,20,30],\n",
    "#                          'gradientboostingregressor__max_depth': [5, 6, 7]}"
   ]
  },
  {
   "cell_type": "code",
   "execution_count": 155,
   "metadata": {},
   "outputs": [],
   "source": [
    "#X_train.head()"
   ]
  },
  {
   "cell_type": "code",
   "execution_count": 310,
   "metadata": {},
   "outputs": [
    {
     "name": "stdout",
     "output_type": "stream",
     "text": [
      "0.8055214982880325\n",
      "{'gradientboostingclassifier__learning_rate': 0.01, 'gradientboostingclassifier__max_depth': 4, 'gradientboostingclassifier__max_features': 'log2', 'gradientboostingclassifier__n_estimators': 500}\n"
     ]
    }
   ],
   "source": [
    "param_grid['XGBoost'] ={\n",
    "                        'gradientboostingclassifier__n_estimators':[100,200,300,500],\n",
    "                        'gradientboostingclassifier__max_features':[\"auto\", \"sqrt\", \"log2\"],\n",
    "                        'gradientboostingclassifier__max_depth':[2,4,8],\n",
    "                        \"gradientboostingclassifier__learning_rate\": [0.01,0.1],\n",
    "                       }\n",
    "         \n",
    "\n",
    "\n",
    "grid = GridSearchCV(model3, param_grid['XGBoost'], cv=5)\n",
    "grid.fit(X_train,y_train)\n",
    "\n",
    "print(grid.best_score_)\n",
    "print(grid.best_params_)"
   ]
  },
  {
   "cell_type": "code",
   "execution_count": null,
   "metadata": {},
   "outputs": [],
   "source": []
  },
  {
   "cell_type": "markdown",
   "metadata": {},
   "source": [
    "# Try Deep Learning Model  (MLP)"
   ]
  },
  {
   "cell_type": "code",
   "execution_count": 161,
   "metadata": {},
   "outputs": [],
   "source": [
    "import tensorflow as tf\n",
    "import math\n",
    "from keras.models import Sequential \n",
    "from keras.layers import Dense, Activation, Dropout \n",
    "from keras.optimizers import Adam,SGD\n",
    "from keras.callbacks import TensorBoard,EarlyStopping"
   ]
  },
  {
   "cell_type": "code",
   "execution_count": 165,
   "metadata": {},
   "outputs": [],
   "source": [
    "ct.fit(X_train)\n",
    "x=ct.transform(X_train)"
   ]
  },
  {
   "cell_type": "code",
   "execution_count": 383,
   "metadata": {},
   "outputs": [],
   "source": [
    "y=y_train.map(lambda x: 0 if x=='No' else 1)\n",
    "#y"
   ]
  },
  {
   "cell_type": "code",
   "execution_count": 365,
   "metadata": {},
   "outputs": [
    {
     "name": "stdout",
     "output_type": "stream",
     "text": [
      "Model: \"sequential_20\"\n",
      "_________________________________________________________________\n",
      "Layer (type)                 Output Shape              Param #   \n",
      "=================================================================\n",
      "dense_38 (Dense)             (None, 60)                2760      \n",
      "_________________________________________________________________\n",
      "dense_39 (Dense)             (None, 1)                 61        \n",
      "=================================================================\n",
      "Total params: 2,821\n",
      "Trainable params: 2,821\n",
      "Non-trainable params: 0\n",
      "_________________________________________________________________\n",
      "Epoch 1/500000\n",
      "1/1 [==============================] - 0s 361ms/step - loss: 73.9383 - accuracy: 0.2661 - val_loss: 8976.7588 - val_accuracy: 0.7171\n",
      "Epoch 2/500000\n",
      "1/1 [==============================] - 0s 51ms/step - loss: 8445.2432 - accuracy: 0.7339 - val_loss: 1171328.7500 - val_accuracy: 0.2829\n",
      "Epoch 3/500000\n",
      "1/1 [==============================] - 0s 60ms/step - loss: 1171966.5000 - accuracy: 0.2661 - val_loss: 0.6865 - val_accuracy: 0.7595\n",
      "Epoch 4/500000\n",
      "1/1 [==============================] - 0s 52ms/step - loss: 0.6876 - accuracy: 0.7495 - val_loss: 0.6840 - val_accuracy: 0.7572\n",
      "Epoch 5/500000\n",
      "1/1 [==============================] - 0s 64ms/step - loss: 0.6848 - accuracy: 0.7490 - val_loss: 0.6797 - val_accuracy: 0.7572\n",
      "Epoch 6/500000\n",
      "1/1 [==============================] - 0s 65ms/step - loss: 0.6810 - accuracy: 0.7495 - val_loss: 0.6738 - val_accuracy: 0.7550\n",
      "Epoch 7/500000\n",
      "1/1 [==============================] - 0s 85ms/step - loss: 0.6764 - accuracy: 0.7517 - val_loss: 0.6664 - val_accuracy: 0.7684\n",
      "Epoch 8/500000\n",
      "1/1 [==============================] - 0s 70ms/step - loss: 0.6714 - accuracy: 0.7552 - val_loss: 0.6572 - val_accuracy: 0.7728\n",
      "Epoch 9/500000\n",
      "1/1 [==============================] - 0s 58ms/step - loss: 0.6661 - accuracy: 0.7520 - val_loss: 0.6509 - val_accuracy: 0.7572\n",
      "Epoch 10/500000\n",
      "1/1 [==============================] - 0s 51ms/step - loss: 0.6621 - accuracy: 0.7426 - val_loss: 0.6479 - val_accuracy: 0.7528\n",
      "Epoch 11/500000\n",
      "1/1 [==============================] - 0s 58ms/step - loss: 0.6591 - accuracy: 0.7391 - val_loss: 0.6429 - val_accuracy: 0.7773\n",
      "Epoch 12/500000\n",
      "1/1 [==============================] - 0s 63ms/step - loss: 0.6539 - accuracy: 0.7545 - val_loss: 0.6423 - val_accuracy: 0.7728\n",
      "Epoch 13/500000\n",
      "1/1 [==============================] - 0s 57ms/step - loss: 0.6506 - accuracy: 0.7559 - val_loss: 0.6406 - val_accuracy: 0.7595\n",
      "Epoch 14/500000\n",
      "1/1 [==============================] - 0s 58ms/step - loss: 0.6474 - accuracy: 0.7535 - val_loss: 0.6373 - val_accuracy: 0.7617\n",
      "Epoch 15/500000\n",
      "1/1 [==============================] - 0s 60ms/step - loss: 0.6438 - accuracy: 0.7520 - val_loss: 0.6329 - val_accuracy: 0.7617\n",
      "Epoch 16/500000\n",
      "1/1 [==============================] - 0s 54ms/step - loss: 0.6397 - accuracy: 0.7520 - val_loss: 0.6278 - val_accuracy: 0.7595\n",
      "Epoch 17/500000\n",
      "1/1 [==============================] - 0s 51ms/step - loss: 0.6354 - accuracy: 0.7535 - val_loss: 0.6237 - val_accuracy: 0.7661\n",
      "Epoch 18/500000\n",
      "1/1 [==============================] - 0s 58ms/step - loss: 0.6329 - accuracy: 0.7572 - val_loss: 0.6165 - val_accuracy: 0.7684\n",
      "Epoch 19/500000\n",
      "1/1 [==============================] - 0s 57ms/step - loss: 0.6273 - accuracy: 0.7572 - val_loss: 0.6108 - val_accuracy: 0.7751\n",
      "Epoch 20/500000\n",
      "1/1 [==============================] - 0s 58ms/step - loss: 0.6235 - accuracy: 0.7569 - val_loss: 0.6050 - val_accuracy: 0.7728\n",
      "Epoch 21/500000\n",
      "1/1 [==============================] - 0s 64ms/step - loss: 0.6200 - accuracy: 0.7559 - val_loss: 0.6001 - val_accuracy: 0.7773\n",
      "Epoch 22/500000\n",
      "1/1 [==============================] - 0s 58ms/step - loss: 0.6170 - accuracy: 0.7572 - val_loss: 0.5957 - val_accuracy: 0.7795\n",
      "Epoch 23/500000\n",
      "1/1 [==============================] - 0s 50ms/step - loss: 0.6139 - accuracy: 0.7567 - val_loss: 0.5921 - val_accuracy: 0.7795\n",
      "Epoch 24/500000\n",
      "1/1 [==============================] - 0s 56ms/step - loss: 0.6107 - accuracy: 0.7569 - val_loss: 0.5891 - val_accuracy: 0.7795\n",
      "Epoch 25/500000\n",
      "1/1 [==============================] - 0s 61ms/step - loss: 0.6074 - accuracy: 0.7589 - val_loss: 0.5869 - val_accuracy: 0.7773\n",
      "Epoch 26/500000\n",
      "1/1 [==============================] - 0s 54ms/step - loss: 0.6040 - accuracy: 0.7582 - val_loss: 0.5849 - val_accuracy: 0.7728\n",
      "Epoch 27/500000\n",
      "1/1 [==============================] - 0s 49ms/step - loss: 0.6008 - accuracy: 0.7582 - val_loss: 0.5835 - val_accuracy: 0.7706\n",
      "Epoch 28/500000\n",
      "1/1 [==============================] - 0s 49ms/step - loss: 0.5979 - accuracy: 0.7574 - val_loss: 0.5819 - val_accuracy: 0.7684\n",
      "Epoch 29/500000\n",
      "1/1 [==============================] - 0s 41ms/step - loss: 0.5953 - accuracy: 0.7606 - val_loss: 0.5798 - val_accuracy: 0.7751\n",
      "Epoch 30/500000\n",
      "1/1 [==============================] - 0s 41ms/step - loss: 0.5927 - accuracy: 0.7614 - val_loss: 0.5770 - val_accuracy: 0.7751\n",
      "Epoch 31/500000\n",
      "1/1 [==============================] - 0s 49ms/step - loss: 0.5900 - accuracy: 0.7629 - val_loss: 0.5734 - val_accuracy: 0.7773\n",
      "Epoch 32/500000\n",
      "1/1 [==============================] - 0s 44ms/step - loss: 0.5874 - accuracy: 0.7631 - val_loss: 0.5698 - val_accuracy: 0.7773\n",
      "Epoch 33/500000\n",
      "1/1 [==============================] - 0s 49ms/step - loss: 0.5848 - accuracy: 0.7641 - val_loss: 0.5655 - val_accuracy: 0.7795\n",
      "Epoch 34/500000\n",
      "1/1 [==============================] - 0s 43ms/step - loss: 0.5821 - accuracy: 0.7651 - val_loss: 0.5616 - val_accuracy: 0.7862\n",
      "Epoch 35/500000\n",
      "1/1 [==============================] - 0s 55ms/step - loss: 0.5789 - accuracy: 0.7666 - val_loss: 0.5597 - val_accuracy: 0.7795\n",
      "Epoch 36/500000\n",
      "1/1 [==============================] - 0s 53ms/step - loss: 0.5762 - accuracy: 0.7725 - val_loss: 0.5627 - val_accuracy: 0.7840\n",
      "Epoch 37/500000\n",
      "1/1 [==============================] - 0s 53ms/step - loss: 0.5756 - accuracy: 0.7705 - val_loss: 0.5558 - val_accuracy: 0.7773\n",
      "Epoch 38/500000\n",
      "1/1 [==============================] - 0s 51ms/step - loss: 0.5712 - accuracy: 0.7752 - val_loss: 0.5544 - val_accuracy: 0.7906\n",
      "Epoch 39/500000\n",
      "1/1 [==============================] - 0s 48ms/step - loss: 0.5695 - accuracy: 0.7691 - val_loss: 0.5533 - val_accuracy: 0.7906\n",
      "Epoch 40/500000\n",
      "1/1 [==============================] - 0s 48ms/step - loss: 0.5678 - accuracy: 0.7678 - val_loss: 0.5512 - val_accuracy: 0.7840\n",
      "Epoch 41/500000\n",
      "1/1 [==============================] - 0s 49ms/step - loss: 0.5646 - accuracy: 0.7738 - val_loss: 0.5562 - val_accuracy: 0.7751\n",
      "Epoch 42/500000\n",
      "1/1 [==============================] - 0s 51ms/step - loss: 0.5631 - accuracy: 0.7738 - val_loss: 0.5540 - val_accuracy: 0.7795\n",
      "Epoch 43/500000\n",
      "1/1 [==============================] - 0s 53ms/step - loss: 0.5606 - accuracy: 0.7745 - val_loss: 0.5490 - val_accuracy: 0.7817\n",
      "Epoch 44/500000\n",
      "1/1 [==============================] - 0s 44ms/step - loss: 0.5585 - accuracy: 0.7740 - val_loss: 0.5477 - val_accuracy: 0.7840\n",
      "Epoch 45/500000\n",
      "1/1 [==============================] - 0s 53ms/step - loss: 0.5571 - accuracy: 0.7745 - val_loss: 0.5481 - val_accuracy: 0.7817\n",
      "Epoch 46/500000\n",
      "1/1 [==============================] - 0s 45ms/step - loss: 0.5552 - accuracy: 0.7750 - val_loss: 0.5490 - val_accuracy: 0.7728\n",
      "Epoch 47/500000\n",
      "1/1 [==============================] - 0s 42ms/step - loss: 0.5527 - accuracy: 0.7772 - val_loss: 0.5480 - val_accuracy: 0.7751\n",
      "Epoch 48/500000\n",
      "1/1 [==============================] - 0s 57ms/step - loss: 0.5511 - accuracy: 0.7767 - val_loss: 0.5455 - val_accuracy: 0.7884\n",
      "Epoch 49/500000\n",
      "1/1 [==============================] - 0s 59ms/step - loss: 0.5540 - accuracy: 0.7663 - val_loss: 0.5440 - val_accuracy: 0.7862\n",
      "Epoch 50/500000\n",
      "1/1 [==============================] - 0s 39ms/step - loss: 0.5521 - accuracy: 0.7681 - val_loss: 0.5462 - val_accuracy: 0.7773\n",
      "Epoch 51/500000\n",
      "1/1 [==============================] - 0s 62ms/step - loss: 0.5485 - accuracy: 0.7688 - val_loss: 0.5590 - val_accuracy: 0.7617\n",
      "Epoch 52/500000\n",
      "1/1 [==============================] - 0s 42ms/step - loss: 0.5623 - accuracy: 0.7564 - val_loss: 0.5717 - val_accuracy: 0.7439\n",
      "Epoch 53/500000\n"
     ]
    },
    {
     "name": "stdout",
     "output_type": "stream",
     "text": [
      "1/1 [==============================] - 0s 49ms/step - loss: 0.5688 - accuracy: 0.7433 - val_loss: 0.5771 - val_accuracy: 0.7171\n",
      "Epoch 54/500000\n",
      "1/1 [==============================] - 0s 48ms/step - loss: 0.5714 - accuracy: 0.7342 - val_loss: 0.5794 - val_accuracy: 0.7171\n",
      "Epoch 55/500000\n",
      "1/1 [==============================] - 0s 46ms/step - loss: 0.5724 - accuracy: 0.7339 - val_loss: 0.5785 - val_accuracy: 0.7171\n",
      "Epoch 56/500000\n",
      "1/1 [==============================] - 0s 43ms/step - loss: 0.5717 - accuracy: 0.7339 - val_loss: 0.5748 - val_accuracy: 0.7216\n",
      "Epoch 57/500000\n",
      "1/1 [==============================] - 0s 47ms/step - loss: 0.5693 - accuracy: 0.7347 - val_loss: 0.5692 - val_accuracy: 0.7461\n",
      "Epoch 58/500000\n",
      "1/1 [==============================] - 0s 42ms/step - loss: 0.5658 - accuracy: 0.7433 - val_loss: 0.5628 - val_accuracy: 0.7595\n",
      "Epoch 59/500000\n",
      "1/1 [==============================] - 0s 54ms/step - loss: 0.5620 - accuracy: 0.7574 - val_loss: 0.5558 - val_accuracy: 0.7639\n"
     ]
    }
   ],
   "source": [
    "import math\n",
    "import numpy as np\n",
    "\n",
    "model_2 = Sequential()\n",
    "model_2.add(Dense(60, input_dim=x.shape[1], activation='relu',kernel_initializer = \"uniform\"))\n",
    "#model_1.add(Dropout(0.5))\n",
    "model_2.add(Dense(1, activation='sigmoid'))\n",
    "opt = SGD(learning_rate=0.01,momentum=0.9)\n",
    "model_2.compile(optimizer=opt, loss='binary_crossentropy',metrics='accuracy')\n",
    "model_2.summary()\n",
    "early_stopping_cb = EarlyStopping(patience=10,restore_best_weights=True)\n",
    "run_logdir=r\"C:\\Users\\Deepak Tripathi\\Desktop\\rossman\\log\"\n",
    "history = model_2.fit(np.array(x), y, batch_size=len(x),validation_split=0.10 ,epochs=500000, verbose=1,callbacks=[early_stopping_cb])  "
   ]
  },
  {
   "cell_type": "markdown",
   "metadata": {},
   "source": [
    "# So best models so far are logistic regression and GradientBoostingClassifier. "
   ]
  },
  {
   "cell_type": "markdown",
   "metadata": {},
   "source": [
    "# lets check their performence on test data and select the final model"
   ]
  },
  {
   "cell_type": "markdown",
   "metadata": {},
   "source": [
    "# logistic regression"
   ]
  },
  {
   "cell_type": "code",
   "execution_count": 489,
   "metadata": {},
   "outputs": [
    {
     "data": {
      "text/plain": [
       "0.7949231796927188"
      ]
     },
     "execution_count": 489,
     "metadata": {},
     "output_type": "execute_result"
    }
   ],
   "source": [
    "model1 = make_pipeline(ct_selected, LogisticRegression(C = 0.03162277660168379))\n",
    "\n",
    "model1.fit(X_train, y_train)\n",
    "\n",
    "model1.score(X_test,y_test)"
   ]
  },
  {
   "cell_type": "markdown",
   "metadata": {},
   "source": [
    "# GradientBoostingClassifier"
   ]
  },
  {
   "cell_type": "code",
   "execution_count": 491,
   "metadata": {},
   "outputs": [
    {
     "data": {
      "text/plain": [
       "0.8036072144288577"
      ]
     },
     "execution_count": 491,
     "metadata": {},
     "output_type": "execute_result"
    }
   ],
   "source": [
    "model3 = make_pipeline(ct_selected, GradientBoostingClassifier(learning_rate = 0.01,max_depth = 4, max_features = 'log2' , n_estimators = 500))\n",
    "\n",
    "model3.fit(X_train, y_train)\n",
    "\n",
    "model3.score(X_test,y_test)\n"
   ]
  },
  {
   "cell_type": "markdown",
   "metadata": {},
   "source": [
    "# Conclusion"
   ]
  },
  {
   "cell_type": "markdown",
   "metadata": {},
   "source": [
    "GradientBoostingClassifier has performed slightly better than logistic regression"
   ]
  },
  {
   "cell_type": "markdown",
   "metadata": {},
   "source": [
    "# Feature importence with gradient boosting"
   ]
  },
  {
   "cell_type": "code",
   "execution_count": 455,
   "metadata": {},
   "outputs": [
    {
     "data": {
      "text/plain": [
       "Index(['PaymentMethod', 'gender', 'Partner', 'DeviceProtection',\n",
       "       'SeniorCitizen', 'StreamingMovies', 'OnlineBackup', 'TechSupport',\n",
       "       'TotalCharges', 'StreamingTV', 'MonthlyCharges', 'PaperlessBilling',\n",
       "       'OnlineSecurity', 'Contract', 'tenure', 'PhoneService', 'MultipleLines',\n",
       "       'InternetService', 'Dependents'],\n",
       "      dtype='object')"
      ]
     },
     "execution_count": 455,
     "metadata": {},
     "output_type": "execute_result"
    }
   ],
   "source": [
    "from sklearn.preprocessing import OrdinalEncoder\n",
    "\n",
    "categorical=df[df.columns[object_col]].columns\n",
    "numerical=df[df.columns[num_col]].columns\n",
    "\n",
    "ct = ColumnTransformer([\n",
    "                                (\"imp\", SimpleImputer(missing_values=0, strategy='mean'), numerical),\n",
    "                                (\"ohe\", OrdinalEncoder(), categorical)\n",
    "                        ])\n",
    "\n",
    "x=ct.fit_transform(X_train)\n",
    "\n",
    "clf = GradientBoostingClassifier(learning_rate = 0.01,max_depth = 4, max_features = 'log2' , n_estimators = 500)\n",
    "\n",
    "clf.fit(x,y_train)\n",
    "\n",
    "index=np.array(clf.feature_importances_).argsort()[::-1]\n",
    "X_train.columns[[index]]"
   ]
  },
  {
   "cell_type": "code",
   "execution_count": null,
   "metadata": {},
   "outputs": [],
   "source": []
  }
 ],
 "metadata": {
  "kernelspec": {
   "display_name": "Python 3",
   "language": "python",
   "name": "python3"
  },
  "language_info": {
   "codemirror_mode": {
    "name": "ipython",
    "version": 3
   },
   "file_extension": ".py",
   "mimetype": "text/x-python",
   "name": "python",
   "nbconvert_exporter": "python",
   "pygments_lexer": "ipython3",
   "version": "3.8.3"
  }
 },
 "nbformat": 4,
 "nbformat_minor": 4
}
